{
 "cells": [
  {
   "cell_type": "code",
   "execution_count": 1,
   "metadata": {},
   "outputs": [],
   "source": [
    "import pandas as pd\n",
    "import numpy as np\n",
    "import matplotlib.pyplot as plt\n",
    "%matplotlib inline\n",
    "\n",
    "import pyspark\n",
    "from pyspark.sql import *\n",
    "from pyspark.sql.functions import *\n",
    "from pyspark.sql.types import IntegerType, FloatType\n",
    "from pyspark.sql import SparkSession\n",
    "from pyspark.sql import functions as F\n",
    "from pyspark import SparkContext, SparkConf"
   ]
  },
  {
   "cell_type": "code",
   "execution_count": 6,
   "metadata": {},
   "outputs": [],
   "source": [
    "file = \"home/steam/Game_Reviews.csv\""
   ]
  },
  {
   "cell_type": "markdown",
   "metadata": {},
   "source": [
    "# Pre-process reviews with Pandas"
   ]
  },
  {
   "cell_type": "code",
   "execution_count": 8,
   "metadata": {},
   "outputs": [
    {
     "name": "stderr",
     "output_type": "stream",
     "text": [
      "/opt/conda/anaconda/lib/python3.7/site-packages/IPython/core/interactiveshell.py:3058: DtypeWarning: Columns (7) have mixed types.Specify dtype option on import or set low_memory=False.\n",
      "  interactivity=interactivity, compiler=compiler, result=result)\n"
     ]
    }
   ],
   "source": [
    "Game_Reviews = pd.read_csv(file, header = [0] )"
   ]
  },
  {
   "cell_type": "code",
   "execution_count": 9,
   "metadata": {},
   "outputs": [],
   "source": [
    "review_vote = Game_Reviews[[\"review\",\"voted_up\"]]"
   ]
  },
  {
   "cell_type": "code",
   "execution_count": 10,
   "metadata": {},
   "outputs": [
    {
     "name": "stderr",
     "output_type": "stream",
     "text": [
      "/opt/conda/anaconda/lib/python3.7/site-packages/ipykernel_launcher.py:1: SettingWithCopyWarning: \n",
      "A value is trying to be set on a copy of a slice from a DataFrame.\n",
      "Try using .loc[row_indexer,col_indexer] = value instead\n",
      "\n",
      "See the caveats in the documentation: https://pandas.pydata.org/pandas-docs/stable/user_guide/indexing.html#returning-a-view-versus-a-copy\n",
      "  \"\"\"Entry point for launching an IPython kernel.\n",
      "/opt/conda/anaconda/lib/python3.7/site-packages/ipykernel_launcher.py:2: SettingWithCopyWarning: \n",
      "A value is trying to be set on a copy of a slice from a DataFrame.\n",
      "Try using .loc[row_indexer,col_indexer] = value instead\n",
      "\n",
      "See the caveats in the documentation: https://pandas.pydata.org/pandas-docs/stable/user_guide/indexing.html#returning-a-view-versus-a-copy\n",
      "  \n",
      "/opt/conda/anaconda/lib/python3.7/site-packages/ipykernel_launcher.py:3: SettingWithCopyWarning: \n",
      "A value is trying to be set on a copy of a slice from a DataFrame.\n",
      "Try using .loc[row_indexer,col_indexer] = value instead\n",
      "\n",
      "See the caveats in the documentation: https://pandas.pydata.org/pandas-docs/stable/user_guide/indexing.html#returning-a-view-versus-a-copy\n",
      "  This is separate from the ipykernel package so we can avoid doing imports until\n"
     ]
    }
   ],
   "source": [
    "review_vote['review'] = review_vote['review'].astype(str)\n",
    "review_vote['review'] = review_vote['review'].apply(lambda x: x.replace(\"\\n\", \" \"))\n",
    "review_vote['vote'] = review_vote['voted_up'].apply(lambda x: 1 if x is True else 0)"
   ]
  },
  {
   "cell_type": "code",
   "execution_count": 11,
   "metadata": {},
   "outputs": [
    {
     "name": "stderr",
     "output_type": "stream",
     "text": [
      "/opt/conda/anaconda/lib/python3.7/site-packages/ipykernel_launcher.py:7: SettingWithCopyWarning: \n",
      "A value is trying to be set on a copy of a slice from a DataFrame.\n",
      "Try using .loc[row_indexer,col_indexer] = value instead\n",
      "\n",
      "See the caveats in the documentation: https://pandas.pydata.org/pandas-docs/stable/user_guide/indexing.html#returning-a-view-versus-a-copy\n",
      "  import sys\n"
     ]
    }
   ],
   "source": [
    "# Remove the punctuations\n",
    "import string\n",
    "import re\n",
    "\n",
    "remove_chars = '[·’!\"\\#$%&\\'()＃！*+,-./:;<=>?\\@，：?￥★、…．＞【】［］《》？“”‘’\\[\\\\]^_`{|}~]+'\n",
    "\n",
    "review_vote['review'] = review_vote['review'].apply(lambda x: re.sub(remove_chars, \"\", x))"
   ]
  },
  {
   "cell_type": "code",
   "execution_count": 12,
   "metadata": {},
   "outputs": [
    {
     "data": {
      "text/html": [
       "<div>\n",
       "<style scoped>\n",
       "    .dataframe tbody tr th:only-of-type {\n",
       "        vertical-align: middle;\n",
       "    }\n",
       "\n",
       "    .dataframe tbody tr th {\n",
       "        vertical-align: top;\n",
       "    }\n",
       "\n",
       "    .dataframe thead th {\n",
       "        text-align: right;\n",
       "    }\n",
       "</style>\n",
       "<table border=\"1\" class=\"dataframe\">\n",
       "  <thead>\n",
       "    <tr style=\"text-align: right;\">\n",
       "      <th></th>\n",
       "      <th>review</th>\n",
       "      <th>vote</th>\n",
       "    </tr>\n",
       "  </thead>\n",
       "  <tbody>\n",
       "    <tr>\n",
       "      <th>0</th>\n",
       "      <td>So if you are like me and you want to play as ...</td>\n",
       "      <td>1</td>\n",
       "    </tr>\n",
       "    <tr>\n",
       "      <th>1</th>\n",
       "      <td>You can play as General Grievous You can kill ...</td>\n",
       "      <td>1</td>\n",
       "    </tr>\n",
       "    <tr>\n",
       "      <th>2</th>\n",
       "      <td>Yoda has a fat a in this game can confirm</td>\n",
       "      <td>1</td>\n",
       "    </tr>\n",
       "    <tr>\n",
       "      <th>3</th>\n",
       "      <td>You can kill younglings  Best Game GOTY 1010</td>\n",
       "      <td>1</td>\n",
       "    </tr>\n",
       "    <tr>\n",
       "      <th>4</th>\n",
       "      <td>this game is what i imagine sex is like</td>\n",
       "      <td>1</td>\n",
       "    </tr>\n",
       "    <tr>\n",
       "      <th>...</th>\n",
       "      <td>...</td>\n",
       "      <td>...</td>\n",
       "    </tr>\n",
       "    <tr>\n",
       "      <th>11287435</th>\n",
       "      <td>big man on horse very scary bro</td>\n",
       "      <td>1</td>\n",
       "    </tr>\n",
       "    <tr>\n",
       "      <th>11287436</th>\n",
       "      <td>this is a dark soul</td>\n",
       "      <td>1</td>\n",
       "    </tr>\n",
       "    <tr>\n",
       "      <th>11287437</th>\n",
       "      <td>Dog</td>\n",
       "      <td>1</td>\n",
       "    </tr>\n",
       "    <tr>\n",
       "      <th>11287438</th>\n",
       "      <td>if i have to tell you why this is a good game ...</td>\n",
       "      <td>1</td>\n",
       "    </tr>\n",
       "    <tr>\n",
       "      <th>11287439</th>\n",
       "      <td>I am new to Souls games so I had a bit of a le...</td>\n",
       "      <td>1</td>\n",
       "    </tr>\n",
       "  </tbody>\n",
       "</table>\n",
       "<p>11287440 rows × 2 columns</p>\n",
       "</div>"
      ],
      "text/plain": [
       "                                                     review  vote\n",
       "0         So if you are like me and you want to play as ...     1\n",
       "1         You can play as General Grievous You can kill ...     1\n",
       "2                 Yoda has a fat a in this game can confirm     1\n",
       "3              You can kill younglings  Best Game GOTY 1010     1\n",
       "4                   this game is what i imagine sex is like     1\n",
       "...                                                     ...   ...\n",
       "11287435                    big man on horse very scary bro     1\n",
       "11287436                                this is a dark soul     1\n",
       "11287437                                                Dog     1\n",
       "11287438  if i have to tell you why this is a good game ...     1\n",
       "11287439  I am new to Souls games so I had a bit of a le...     1\n",
       "\n",
       "[11287440 rows x 2 columns]"
      ]
     },
     "execution_count": 12,
     "metadata": {},
     "output_type": "execute_result"
    }
   ],
   "source": [
    "review_vote = review_vote[[\"review\",\"vote\"]]\n",
    "review_vote"
   ]
  },
  {
   "cell_type": "code",
   "execution_count": 13,
   "metadata": {},
   "outputs": [],
   "source": [
    "# Remove redundant spaces\n",
    "review_vote[\"review\"] = review_vote[\"review\"].replace('\\s+', ' ', regex=True)"
   ]
  },
  {
   "cell_type": "code",
   "execution_count": 14,
   "metadata": {},
   "outputs": [],
   "source": [
    "# drop na\n",
    "review_vote = review_vote[review_vote[\"review\"] != '']"
   ]
  },
  {
   "cell_type": "code",
   "execution_count": 15,
   "metadata": {},
   "outputs": [],
   "source": [
    "# save to a .csv file\n",
    "review_data = review_vote.to_csv(\"/home/steam/review_data.csv\")"
   ]
  },
  {
   "cell_type": "markdown",
   "metadata": {},
   "source": [
    "# Modeling with Pyspark"
   ]
  },
  {
   "cell_type": "code",
   "execution_count": 2,
   "metadata": {},
   "outputs": [],
   "source": [
    "file2 = \"hdfs://cluster-steam-m/user/dataproc/review_data.csv\""
   ]
  },
  {
   "cell_type": "code",
   "execution_count": 3,
   "metadata": {},
   "outputs": [],
   "source": [
    "from pyspark.ml.feature import HashingTF, IDF, Tokenizer\n",
    "from pyspark.ml.feature import StopWordsRemover\n",
    "from pyspark.ml.feature import NGram\n",
    "from pyspark.ml import Pipeline"
   ]
  },
  {
   "cell_type": "code",
   "execution_count": 4,
   "metadata": {},
   "outputs": [],
   "source": [
    "sc=SparkContext(master=\"local[8]\")\n",
    "spark = SparkSession.builder.appName('wk7_lr').getOrCreate()"
   ]
  },
  {
   "cell_type": "code",
   "execution_count": 5,
   "metadata": {},
   "outputs": [
    {
     "name": "stdout",
     "output_type": "stream",
     "text": [
      "+---+-----------------------------------------------------------------------------------------------------------------------------------------------------------------------------------------------------------------------------------------------------------------------------------------------------------------------------------------------------------------------------------------------------------------------------------------------------------------------------------------------------------------------------------------------------------------------------------------------------------------------------------------------------------------------------------------------------------------------------------------------------------------------------------------------------------------------------------------------------------------------------------------------------------------------------------------------------------------------------------------------------------------------------------------------------------------------------------------------------------------------------------------------------------------------------------------------------------------------------------------------------------------------------------------------------------------------------------------------------------------------------------------+----+\n",
      "|_c0|review                                                                                                                                                                                                                                                                                                                                                                                                                                                                                                                                                                                                                                                                                                                                                                                                                                                                                                                                                                                                                                                                                                                                                                                                                                                                                                                                                                                   |vote|\n",
      "+---+-----------------------------------------------------------------------------------------------------------------------------------------------------------------------------------------------------------------------------------------------------------------------------------------------------------------------------------------------------------------------------------------------------------------------------------------------------------------------------------------------------------------------------------------------------------------------------------------------------------------------------------------------------------------------------------------------------------------------------------------------------------------------------------------------------------------------------------------------------------------------------------------------------------------------------------------------------------------------------------------------------------------------------------------------------------------------------------------------------------------------------------------------------------------------------------------------------------------------------------------------------------------------------------------------------------------------------------------------------------------------------------------+----+\n",
      "|0  |So if you are like me and you want to play as Mando with Baby Yoda in the actural Razor Crest you need a code and there is other Stuff unlockable with codes too here is the list ARVALA7 The Razor Crest ship C3PHOHO C3PO Holiday Special WOOKIEE Chewbacca Holiday Special TIPYIPS DO Holiday Special WROSHYR Darth Vader Holiday Special LIFEDAY Gonk Droid Holiday Special KORDOKU Poe Dameron Holiday Special KH7P320 Aayla Secura XV4WND9 Admiral Holdo OKV7TLR Dengar SIDIOUS The Emperor WBFE4GO Nute Gunray Z55T8CQ Poggle The Lesser GR2VBXF Ratts Tyerell 3FCPPVX Tarkin SKYSAGA Temmin Wexley listed as Snap Wexley for Lego Survey reward SHUTTLE Resistance ITS Transport ship There are two locations within the game menus where youll find a code entry screen which will let you type in any of the Lego Star Wars The Skywalker Saga cheats listed above 1 Open Holoprojector move to Extras tab then follow Enter Code prompt 2 Enter the Pause menu and select the key icon labelled Enter Code If you enter the code correctly youll receive a notification to confirm it has been accepted and revealing what has been unlocked As with previous games youll only need to enter each Lego Star Wars The Skywalker Saga cheat code once which will permanently unlock the item or feature and where applicable the option to enable or disable it through the menu|1   |\n",
      "|1  |You can play as General Grievous You can kill as General Grievous You can run as General Grievous You can jump as General Grievous You can chill as General Grievous You can be on Naboo as General Grievous what was not even in the movies You can kill Darth Vader as General Grievous You can collect stuff as General Grievous You can just stand still as General Grievous You can kill General Grievous as General Grievous                                                                                                                                                                                                                                                                                                                                                                                                                                                                                                                                                                                                                                                                                                                                                                                                                                                                                                                                                       |1   |\n",
      "|2  |Yoda has a fat a in this game can confirm                                                                                                                                                                                                                                                                                                                                                                                                                                                                                                                                                                                                                                                                                                                                                                                                                                                                                                                                                                                                                                                                                                                                                                                                                                                                                                                                                |1   |\n",
      "|3  |You can kill younglings Best Game GOTY 1010                                                                                                                                                                                                                                                                                                                                                                                                                                                                                                                                                                                                                                                                                                                                                                                                                                                                                                                                                                                                                                                                                                                                                                                                                                                                                                                                              |1   |\n",
      "|4  |this game is what i imagine sex is like                                                                                                                                                                                                                                                                                                                                                                                                                                                                                                                                                                                                                                                                                                                                                                                                                                                                                                                                                                                                                                                                                                                                                                                                                                                                                                                                                  |1   |\n",
      "+---+-----------------------------------------------------------------------------------------------------------------------------------------------------------------------------------------------------------------------------------------------------------------------------------------------------------------------------------------------------------------------------------------------------------------------------------------------------------------------------------------------------------------------------------------------------------------------------------------------------------------------------------------------------------------------------------------------------------------------------------------------------------------------------------------------------------------------------------------------------------------------------------------------------------------------------------------------------------------------------------------------------------------------------------------------------------------------------------------------------------------------------------------------------------------------------------------------------------------------------------------------------------------------------------------------------------------------------------------------------------------------------------------+----+\n",
      "only showing top 5 rows\n",
      "\n"
     ]
    }
   ],
   "source": [
    "review_info = spark.read.csv(file2, inferSchema = True, header =True)\n",
    "review_info.show(5, truncate = False)"
   ]
  },
  {
   "cell_type": "code",
   "execution_count": 6,
   "metadata": {},
   "outputs": [
    {
     "data": {
      "text/plain": [
       "11230425"
      ]
     },
     "execution_count": 6,
     "metadata": {},
     "output_type": "execute_result"
    }
   ],
   "source": [
    "review_info.count()"
   ]
  },
  {
   "cell_type": "code",
   "execution_count": 6,
   "metadata": {},
   "outputs": [],
   "source": [
    "review_info = review_info.dropna().select(\"review\",\"vote\")"
   ]
  },
  {
   "cell_type": "code",
   "execution_count": null,
   "metadata": {},
   "outputs": [
    {
     "name": "stdout",
     "output_type": "stream",
     "text": [
      "+-----------------------------------------------------------------------------------------------------------------------------------------------------------------------------------------------------------------------------------------------------------------------------------------------------------------------------------------------------------------------------------------------------------------------------------------------------------------------------------------------------------------------------------------------------------------------------------------------------------------------------------------------------------------------------------------------------------------------------------------------------------------------------------------------------------------------------------------------------------------------------------------------------------------------------------------------------------------------------------------------------------------------------------------------------------------------------------------------------------------------------------------------------------------------------------------------------------------------------------------------------------------------------------------------------------------------------------------------------------------------------------------+----+-------------------------------------------------------------------------------------------------------------------------------------------------------------------------------------------------------------------------------------------------------------------------------------------------------------------------------------------------------------------------------------------------------------------------------------------------------------------------------------------------------------------------------------------------------------------------------------------------------------------------------------------------------------------------------------------------------------------------------------------------------------------------------------------------------------------------------------------------------------------------------------------------------------------------------------------------------------------------------------------------------------------------------------------------------------------------------------------------------------------------------------------------------------------------------------------------------------------------------------------------------------------------------------------------------------------------------------------------------------------------------------------------------------------------------------------------------------------------------------------------------------------------------------------------------------------------------------------------------------------------------+\n",
      "|review                                                                                                                                                                                                                                                                                                                                                                                                                                                                                                                                                                                                                                                                                                                                                                                                                                                                                                                                                                                                                                                                                                                                                                                                                                                                                                                                                                                   |vote|words                                                                                                                                                                                                                                                                                                                                                                                                                                                                                                                                                                                                                                                                                                                                                                                                                                                                                                                                                                                                                                                                                                                                                                                                                                                                                                                                                                                                                                                                                                                                                                                                                          |\n",
      "+-----------------------------------------------------------------------------------------------------------------------------------------------------------------------------------------------------------------------------------------------------------------------------------------------------------------------------------------------------------------------------------------------------------------------------------------------------------------------------------------------------------------------------------------------------------------------------------------------------------------------------------------------------------------------------------------------------------------------------------------------------------------------------------------------------------------------------------------------------------------------------------------------------------------------------------------------------------------------------------------------------------------------------------------------------------------------------------------------------------------------------------------------------------------------------------------------------------------------------------------------------------------------------------------------------------------------------------------------------------------------------------------+----+-------------------------------------------------------------------------------------------------------------------------------------------------------------------------------------------------------------------------------------------------------------------------------------------------------------------------------------------------------------------------------------------------------------------------------------------------------------------------------------------------------------------------------------------------------------------------------------------------------------------------------------------------------------------------------------------------------------------------------------------------------------------------------------------------------------------------------------------------------------------------------------------------------------------------------------------------------------------------------------------------------------------------------------------------------------------------------------------------------------------------------------------------------------------------------------------------------------------------------------------------------------------------------------------------------------------------------------------------------------------------------------------------------------------------------------------------------------------------------------------------------------------------------------------------------------------------------------------------------------------------------+\n",
      "|So if you are like me and you want to play as Mando with Baby Yoda in the actural Razor Crest you need a code and there is other Stuff unlockable with codes too here is the list ARVALA7 The Razor Crest ship C3PHOHO C3PO Holiday Special WOOKIEE Chewbacca Holiday Special TIPYIPS DO Holiday Special WROSHYR Darth Vader Holiday Special LIFEDAY Gonk Droid Holiday Special KORDOKU Poe Dameron Holiday Special KH7P320 Aayla Secura XV4WND9 Admiral Holdo OKV7TLR Dengar SIDIOUS The Emperor WBFE4GO Nute Gunray Z55T8CQ Poggle The Lesser GR2VBXF Ratts Tyerell 3FCPPVX Tarkin SKYSAGA Temmin Wexley listed as Snap Wexley for Lego Survey reward SHUTTLE Resistance ITS Transport ship There are two locations within the game menus where youll find a code entry screen which will let you type in any of the Lego Star Wars The Skywalker Saga cheats listed above 1 Open Holoprojector move to Extras tab then follow Enter Code prompt 2 Enter the Pause menu and select the key icon labelled Enter Code If you enter the code correctly youll receive a notification to confirm it has been accepted and revealing what has been unlocked As with previous games youll only need to enter each Lego Star Wars The Skywalker Saga cheat code once which will permanently unlock the item or feature and where applicable the option to enable or disable it through the menu|1   |[so, if, you, are, like, me, and, you, want, to, play, as, mando, with, baby, yoda, in, the, actural, razor, crest, you, need, a, code, and, there, is, other, stuff, unlockable, with, codes, too, here, is, the, list, arvala7, the, razor, crest, ship, c3phoho, c3po, holiday, special, wookiee, chewbacca, holiday, special, tipyips, do, holiday, special, wroshyr, darth, vader, holiday, special, lifeday, gonk, droid, holiday, special, kordoku, poe, dameron, holiday, special, kh7p320, aayla, secura, xv4wnd9, admiral, holdo, okv7tlr, dengar, sidious, the, emperor, wbfe4go, nute, gunray, z55t8cq, poggle, the, lesser, gr2vbxf, ratts, tyerell, 3fcppvx, tarkin, skysaga, temmin, wexley, listed, as, snap, wexley, for, lego, survey, reward, shuttle, resistance, its, transport, ship, there, are, two, locations, within, the, game, menus, where, youll, find, a, code, entry, screen, which, will, let, you, type, in, any, of, the, lego, star, wars, the, skywalker, saga, cheats, listed, above, 1, open, holoprojector, move, to, extras, tab, then, follow, enter, code, prompt, 2, enter, the, pause, menu, and, select, the, key, icon, labelled, enter, code, if, you, enter, the, code, correctly, youll, receive, a, notification, to, confirm, it, has, been, accepted, and, revealing, what, has, been, unlocked, as, with, previous, games, youll, only, need, to, enter, each, lego, star, wars, the, skywalker, saga, cheat, code, once, which, will, permanently, unlock, the, item, or, feature, and, where, applicable, the, option, to, enable, or, disable, it, through, the, menu]|\n",
      "|You can play as General Grievous You can kill as General Grievous You can run as General Grievous You can jump as General Grievous You can chill as General Grievous You can be on Naboo as General Grievous what was not even in the movies You can kill Darth Vader as General Grievous You can collect stuff as General Grievous You can just stand still as General Grievous You can kill General Grievous as General Grievous                                                                                                                                                                                                                                                                                                                                                                                                                                                                                                                                                                                                                                                                                                                                                                                                                                                                                                                                                       |1   |[you, can, play, as, general, grievous, you, can, kill, as, general, grievous, you, can, run, as, general, grievous, you, can, jump, as, general, grievous, you, can, chill, as, general, grievous, you, can, be, on, naboo, as, general, grievous, what, was, not, even, in, the, movies, you, can, kill, darth, vader, as, general, grievous, you, can, collect, stuff, as, general, grievous, you, can, just, stand, still, as, general, grievous, you, can, kill, general, grievous, as, general, grievous]                                                                                                                                                                                                                                                                                                                                                                                                                                                                                                                                                                                                                                                                                                                                                                                                                                                                                                                                                                                                                                                                                                                |\n",
      "|Yoda has a fat a in this game can confirm                                                                                                                                                                                                                                                                                                                                                                                                                                                                                                                                                                                                                                                                                                                                                                                                                                                                                                                                                                                                                                                                                                                                                                                                                                                                                                                                                |1   |[yoda, has, a, fat, a, in, this, game, can, confirm]                                                                                                                                                                                                                                                                                                                                                                                                                                                                                                                                                                                                                                                                                                                                                                                                                                                                                                                                                                                                                                                                                                                                                                                                                                                                                                                                                                                                                                                                                                                                                                           |\n",
      "|You can kill younglings Best Game GOTY 1010                                                                                                                                                                                                                                                                                                                                                                                                                                                                                                                                                                                                                                                                                                                                                                                                                                                                                                                                                                                                                                                                                                                                                                                                                                                                                                                                              |1   |[you, can, kill, younglings, best, game, goty, 1010]                                                                                                                                                                                                                                                                                                                                                                                                                                                                                                                                                                                                                                                                                                                                                                                                                                                                                                                                                                                                                                                                                                                                                                                                                                                                                                                                                                                                                                                                                                                                                                           |\n",
      "|this game is what i imagine sex is like                                                                                                                                                                                                                                                                                                                                                                                                                                                                                                                                                                                                                                                                                                                                                                                                                                                                                                                                                                                                                                                                                                                                                                                                                                                                                                                                                  |1   |[this, game, is, what, i, imagine, sex, is, like]                                                                                                                                                                                                                                                                                                                                                                                                                                                                                                                                                                                                                                                                                                                                                                                                                                                                                                                                                                                                                                                                                                                                                                                                                                                                                                                                                                                                                                                                                                                                                                              |\n",
      "+-----------------------------------------------------------------------------------------------------------------------------------------------------------------------------------------------------------------------------------------------------------------------------------------------------------------------------------------------------------------------------------------------------------------------------------------------------------------------------------------------------------------------------------------------------------------------------------------------------------------------------------------------------------------------------------------------------------------------------------------------------------------------------------------------------------------------------------------------------------------------------------------------------------------------------------------------------------------------------------------------------------------------------------------------------------------------------------------------------------------------------------------------------------------------------------------------------------------------------------------------------------------------------------------------------------------------------------------------------------------------------------------+----+-------------------------------------------------------------------------------------------------------------------------------------------------------------------------------------------------------------------------------------------------------------------------------------------------------------------------------------------------------------------------------------------------------------------------------------------------------------------------------------------------------------------------------------------------------------------------------------------------------------------------------------------------------------------------------------------------------------------------------------------------------------------------------------------------------------------------------------------------------------------------------------------------------------------------------------------------------------------------------------------------------------------------------------------------------------------------------------------------------------------------------------------------------------------------------------------------------------------------------------------------------------------------------------------------------------------------------------------------------------------------------------------------------------------------------------------------------------------------------------------------------------------------------------------------------------------------------------------------------------------------------+\n",
      "only showing top 5 rows\n",
      "\n",
      "+-----------------------------------------------------------------------------------------------------------------------------------------------------------------------------------------------------------------------------------------------------------------------------------------------------------------------------------------------------------------------------------------------------------------------------------------------------------------------------------------------------------------------------------------------------------------------------------------------------------------------------------------------------------------------------------------------------------------------------------------------------------------------------------------------------------------------------------------------------------------------------------------------------------------------------------------------------------------------------------------------------------------------------------------------------------------------------------------------------------------------------------------------------------------------------------------------------------------------------------------------------------------------------------------------------------------------------------------------------------------------------------------+----+-------------------------------------------------------------------------------------------------------------------------------------------------------------------------------------------------------------------------------------------------------------------------------------------------------------------------------------------------------------------------------------------------------------------------------------------------------------------------------------------------------------------------------------------------------------------------------------------------------------------------------------------------------------------------------------------------------------------------------------------------------------------------------------------------------------------------------------------------------------------------------------------------------------------------------------------------------------------------------------------------------------------------------------------------------------------------------------------------------------------------------------------------------------------------------------------------------------------------------------------------------------------------------------------------------------------------------------------------------------------------------------------------------------------------------------------------------------------------------------------------------------------------------------------------------------------------------------------------------------------------------+----------------------------------------------------------------------------------------------------------------------------------------------------------------------------------------------------------------------------------------------------------------------------------------------------------------------------------------------------------------------------------------------------------------------------------------------------------------------------------------------------------------------------------------------------------------------------------------------------------------------------------------------------------------------------------------------------------------------------------------------------------------------------------------------------------------------------------------------------------------------------------------------------------------------------------------------------------------------------------------------------------------------------------------------------------------------------------------------------------------------------------------------------------------------------------------------------------+\n",
      "|review                                                                                                                                                                                                                                                                                                                                                                                                                                                                                                                                                                                                                                                                                                                                                                                                                                                                                                                                                                                                                                                                                                                                                                                                                                                                                                                                                                                   |vote|words                                                                                                                                                                                                                                                                                                                                                                                                                                                                                                                                                                                                                                                                                                                                                                                                                                                                                                                                                                                                                                                                                                                                                                                                                                                                                                                                                                                                                                                                                                                                                                                                                          |filtered                                                                                                                                                                                                                                                                                                                                                                                                                                                                                                                                                                                                                                                                                                                                                                                                                                                                                                                                                                                                                                                                                                                                                                                                  |\n",
      "+-----------------------------------------------------------------------------------------------------------------------------------------------------------------------------------------------------------------------------------------------------------------------------------------------------------------------------------------------------------------------------------------------------------------------------------------------------------------------------------------------------------------------------------------------------------------------------------------------------------------------------------------------------------------------------------------------------------------------------------------------------------------------------------------------------------------------------------------------------------------------------------------------------------------------------------------------------------------------------------------------------------------------------------------------------------------------------------------------------------------------------------------------------------------------------------------------------------------------------------------------------------------------------------------------------------------------------------------------------------------------------------------+----+-------------------------------------------------------------------------------------------------------------------------------------------------------------------------------------------------------------------------------------------------------------------------------------------------------------------------------------------------------------------------------------------------------------------------------------------------------------------------------------------------------------------------------------------------------------------------------------------------------------------------------------------------------------------------------------------------------------------------------------------------------------------------------------------------------------------------------------------------------------------------------------------------------------------------------------------------------------------------------------------------------------------------------------------------------------------------------------------------------------------------------------------------------------------------------------------------------------------------------------------------------------------------------------------------------------------------------------------------------------------------------------------------------------------------------------------------------------------------------------------------------------------------------------------------------------------------------------------------------------------------------+----------------------------------------------------------------------------------------------------------------------------------------------------------------------------------------------------------------------------------------------------------------------------------------------------------------------------------------------------------------------------------------------------------------------------------------------------------------------------------------------------------------------------------------------------------------------------------------------------------------------------------------------------------------------------------------------------------------------------------------------------------------------------------------------------------------------------------------------------------------------------------------------------------------------------------------------------------------------------------------------------------------------------------------------------------------------------------------------------------------------------------------------------------------------------------------------------------+\n",
      "|So if you are like me and you want to play as Mando with Baby Yoda in the actural Razor Crest you need a code and there is other Stuff unlockable with codes too here is the list ARVALA7 The Razor Crest ship C3PHOHO C3PO Holiday Special WOOKIEE Chewbacca Holiday Special TIPYIPS DO Holiday Special WROSHYR Darth Vader Holiday Special LIFEDAY Gonk Droid Holiday Special KORDOKU Poe Dameron Holiday Special KH7P320 Aayla Secura XV4WND9 Admiral Holdo OKV7TLR Dengar SIDIOUS The Emperor WBFE4GO Nute Gunray Z55T8CQ Poggle The Lesser GR2VBXF Ratts Tyerell 3FCPPVX Tarkin SKYSAGA Temmin Wexley listed as Snap Wexley for Lego Survey reward SHUTTLE Resistance ITS Transport ship There are two locations within the game menus where youll find a code entry screen which will let you type in any of the Lego Star Wars The Skywalker Saga cheats listed above 1 Open Holoprojector move to Extras tab then follow Enter Code prompt 2 Enter the Pause menu and select the key icon labelled Enter Code If you enter the code correctly youll receive a notification to confirm it has been accepted and revealing what has been unlocked As with previous games youll only need to enter each Lego Star Wars The Skywalker Saga cheat code once which will permanently unlock the item or feature and where applicable the option to enable or disable it through the menu|1   |[so, if, you, are, like, me, and, you, want, to, play, as, mando, with, baby, yoda, in, the, actural, razor, crest, you, need, a, code, and, there, is, other, stuff, unlockable, with, codes, too, here, is, the, list, arvala7, the, razor, crest, ship, c3phoho, c3po, holiday, special, wookiee, chewbacca, holiday, special, tipyips, do, holiday, special, wroshyr, darth, vader, holiday, special, lifeday, gonk, droid, holiday, special, kordoku, poe, dameron, holiday, special, kh7p320, aayla, secura, xv4wnd9, admiral, holdo, okv7tlr, dengar, sidious, the, emperor, wbfe4go, nute, gunray, z55t8cq, poggle, the, lesser, gr2vbxf, ratts, tyerell, 3fcppvx, tarkin, skysaga, temmin, wexley, listed, as, snap, wexley, for, lego, survey, reward, shuttle, resistance, its, transport, ship, there, are, two, locations, within, the, game, menus, where, youll, find, a, code, entry, screen, which, will, let, you, type, in, any, of, the, lego, star, wars, the, skywalker, saga, cheats, listed, above, 1, open, holoprojector, move, to, extras, tab, then, follow, enter, code, prompt, 2, enter, the, pause, menu, and, select, the, key, icon, labelled, enter, code, if, you, enter, the, code, correctly, youll, receive, a, notification, to, confirm, it, has, been, accepted, and, revealing, what, has, been, unlocked, as, with, previous, games, youll, only, need, to, enter, each, lego, star, wars, the, skywalker, saga, cheat, code, once, which, will, permanently, unlock, the, item, or, feature, and, where, applicable, the, option, to, enable, or, disable, it, through, the, menu]|[like, want, play, mando, baby, yoda, actural, razor, crest, need, code, stuff, unlockable, codes, list, arvala7, razor, crest, ship, c3phoho, c3po, holiday, special, wookiee, chewbacca, holiday, special, tipyips, holiday, special, wroshyr, darth, vader, holiday, special, lifeday, gonk, droid, holiday, special, kordoku, poe, dameron, holiday, special, kh7p320, aayla, secura, xv4wnd9, admiral, holdo, okv7tlr, dengar, sidious, emperor, wbfe4go, nute, gunray, z55t8cq, poggle, lesser, gr2vbxf, ratts, tyerell, 3fcppvx, tarkin, skysaga, temmin, wexley, listed, snap, wexley, lego, survey, reward, shuttle, resistance, transport, ship, two, locations, within, game, menus, youll, find, code, entry, screen, let, type, lego, star, wars, skywalker, saga, cheats, listed, 1, open, holoprojector, move, extras, tab, follow, enter, code, prompt, 2, enter, pause, menu, select, key, icon, labelled, enter, code, enter, code, correctly, youll, receive, notification, confirm, accepted, revealing, unlocked, previous, games, youll, need, enter, lego, star, wars, skywalker, saga, cheat, code, permanently, unlock, item, feature, applicable, option, enable, disable, menu]|\n",
      "|You can play as General Grievous You can kill as General Grievous You can run as General Grievous You can jump as General Grievous You can chill as General Grievous You can be on Naboo as General Grievous what was not even in the movies You can kill Darth Vader as General Grievous You can collect stuff as General Grievous You can just stand still as General Grievous You can kill General Grievous as General Grievous                                                                                                                                                                                                                                                                                                                                                                                                                                                                                                                                                                                                                                                                                                                                                                                                                                                                                                                                                       |1   |[you, can, play, as, general, grievous, you, can, kill, as, general, grievous, you, can, run, as, general, grievous, you, can, jump, as, general, grievous, you, can, chill, as, general, grievous, you, can, be, on, naboo, as, general, grievous, what, was, not, even, in, the, movies, you, can, kill, darth, vader, as, general, grievous, you, can, collect, stuff, as, general, grievous, you, can, just, stand, still, as, general, grievous, you, can, kill, general, grievous, as, general, grievous]                                                                                                                                                                                                                                                                                                                                                                                                                                                                                                                                                                                                                                                                                                                                                                                                                                                                                                                                                                                                                                                                                                                |[play, general, grievous, kill, general, grievous, run, general, grievous, jump, general, grievous, chill, general, grievous, naboo, general, grievous, even, movies, kill, darth, vader, general, grievous, collect, stuff, general, grievous, stand, still, general, grievous, kill, general, grievous, general, grievous]                                                                                                                                                                                                                                                                                                                                                                                                                                                                                                                                                                                                                                                                                                                                                                                                                                                                              |\n",
      "|Yoda has a fat a in this game can confirm                                                                                                                                                                                                                                                                                                                                                                                                                                                                                                                                                                                                                                                                                                                                                                                                                                                                                                                                                                                                                                                                                                                                                                                                                                                                                                                                                |1   |[yoda, has, a, fat, a, in, this, game, can, confirm]                                                                                                                                                                                                                                                                                                                                                                                                                                                                                                                                                                                                                                                                                                                                                                                                                                                                                                                                                                                                                                                                                                                                                                                                                                                                                                                                                                                                                                                                                                                                                                           |[yoda, fat, game, confirm]                                                                                                                                                                                                                                                                                                                                                                                                                                                                                                                                                                                                                                                                                                                                                                                                                                                                                                                                                                                                                                                                                                                                                                                |\n",
      "|You can kill younglings Best Game GOTY 1010                                                                                                                                                                                                                                                                                                                                                                                                                                                                                                                                                                                                                                                                                                                                                                                                                                                                                                                                                                                                                                                                                                                                                                                                                                                                                                                                              |1   |[you, can, kill, younglings, best, game, goty, 1010]                                                                                                                                                                                                                                                                                                                                                                                                                                                                                                                                                                                                                                                                                                                                                                                                                                                                                                                                                                                                                                                                                                                                                                                                                                                                                                                                                                                                                                                                                                                                                                           |[kill, younglings, best, game, goty, 1010]                                                                                                                                                                                                                                                                                                                                                                                                                                                                                                                                                                                                                                                                                                                                                                                                                                                                                                                                                                                                                                                                                                                                                                |\n",
      "|this game is what i imagine sex is like                                                                                                                                                                                                                                                                                                                                                                                                                                                                                                                                                                                                                                                                                                                                                                                                                                                                                                                                                                                                                                                                                                                                                                                                                                                                                                                                                  |1   |[this, game, is, what, i, imagine, sex, is, like]                                                                                                                                                                                                                                                                                                                                                                                                                                                                                                                                                                                                                                                                                                                                                                                                                                                                                                                                                                                                                                                                                                                                                                                                                                                                                                                                                                                                                                                                                                                                                                              |[game, imagine, sex, like]                                                                                                                                                                                                                                                                                                                                                                                                                                                                                                                                                                                                                                                                                                                                                                                                                                                                                                                                                                                                                                                                                                                                                                                |\n",
      "+-----------------------------------------------------------------------------------------------------------------------------------------------------------------------------------------------------------------------------------------------------------------------------------------------------------------------------------------------------------------------------------------------------------------------------------------------------------------------------------------------------------------------------------------------------------------------------------------------------------------------------------------------------------------------------------------------------------------------------------------------------------------------------------------------------------------------------------------------------------------------------------------------------------------------------------------------------------------------------------------------------------------------------------------------------------------------------------------------------------------------------------------------------------------------------------------------------------------------------------------------------------------------------------------------------------------------------------------------------------------------------------------+----+-------------------------------------------------------------------------------------------------------------------------------------------------------------------------------------------------------------------------------------------------------------------------------------------------------------------------------------------------------------------------------------------------------------------------------------------------------------------------------------------------------------------------------------------------------------------------------------------------------------------------------------------------------------------------------------------------------------------------------------------------------------------------------------------------------------------------------------------------------------------------------------------------------------------------------------------------------------------------------------------------------------------------------------------------------------------------------------------------------------------------------------------------------------------------------------------------------------------------------------------------------------------------------------------------------------------------------------------------------------------------------------------------------------------------------------------------------------------------------------------------------------------------------------------------------------------------------------------------------------------------------+----------------------------------------------------------------------------------------------------------------------------------------------------------------------------------------------------------------------------------------------------------------------------------------------------------------------------------------------------------------------------------------------------------------------------------------------------------------------------------------------------------------------------------------------------------------------------------------------------------------------------------------------------------------------------------------------------------------------------------------------------------------------------------------------------------------------------------------------------------------------------------------------------------------------------------------------------------------------------------------------------------------------------------------------------------------------------------------------------------------------------------------------------------------------------------------------------------+\n",
      "only showing top 5 rows\n",
      "\n",
      "+-----------------------------------------------------------------------------------------------------------------------------------------------------------------------------------------------------------------------------------------------------------------------------------------------------------------------------------------------------------------------------------------------------------------------------------------------------------------------------------------------------------------------------------------------------------------------------------------------------------------------------------------------------------------------------------------------------------------------------------------------------------------------------------------------------------------------------------------------------------------------------------------------------------------------------------------------------------------------------------------------------------------------------------------------------------------------------------------------------------------------------------------------------------------------------------------------------------------------------------------------------------------------------------------------------------------------------------------------------------------------------------------+----+-------------------------------------------------------------------------------------------------------------------------------------------------------------------------------------------------------------------------------------------------------------------------------------------------------------------------------------------------------------------------------------------------------------------------------------------------------------------------------------------------------------------------------------------------------------------------------------------------------------------------------------------------------------------------------------------------------------------------------------------------------------------------------------------------------------------------------------------------------------------------------------------------------------------------------------------------------------------------------------------------------------------------------------------------------------------------------------------------------------------------------------------------------------------------------------------------------------------------------------------------------------------------------------------------------------------------------------------------------------------------------------------------------------------------------------------------------------------------------------------------------------------------------------------------------------------------------------------------------------------------------+----------------------------------------------------------------------------------------------------------------------------------------------------------------------------------------------------------------------------------------------------------------------------------------------------------------------------------------------------------------------------------------------------------------------------------------------------------------------------------------------------------------------------------------------------------------------------------------------------------------------------------------------------------------------------------------------------------------------------------------------------------------------------------------------------------------------------------------------------------------------------------------------------------------------------------------------------------------------------------------------------------------------------------------------------------------------------------------------------------------------------------------------------------------------------------------------------------+-----------------------------------------------------------------------------------------------------------------------------------------------+\n",
      "|review                                                                                                                                                                                                                                                                                                                                                                                                                                                                                                                                                                                                                                                                                                                                                                                                                                                                                                                                                                                                                                                                                                                                                                                                                                                                                                                                                                                   |vote|words                                                                                                                                                                                                                                                                                                                                                                                                                                                                                                                                                                                                                                                                                                                                                                                                                                                                                                                                                                                                                                                                                                                                                                                                                                                                                                                                                                                                                                                                                                                                                                                                                          |filtered                                                                                                                                                                                                                                                                                                                                                                                                                                                                                                                                                                                                                                                                                                                                                                                                                                                                                                                                                                                                                                                                                                                                                                                                  |rawFeatures                                                                                                                                    |\n",
      "+-----------------------------------------------------------------------------------------------------------------------------------------------------------------------------------------------------------------------------------------------------------------------------------------------------------------------------------------------------------------------------------------------------------------------------------------------------------------------------------------------------------------------------------------------------------------------------------------------------------------------------------------------------------------------------------------------------------------------------------------------------------------------------------------------------------------------------------------------------------------------------------------------------------------------------------------------------------------------------------------------------------------------------------------------------------------------------------------------------------------------------------------------------------------------------------------------------------------------------------------------------------------------------------------------------------------------------------------------------------------------------------------+----+-------------------------------------------------------------------------------------------------------------------------------------------------------------------------------------------------------------------------------------------------------------------------------------------------------------------------------------------------------------------------------------------------------------------------------------------------------------------------------------------------------------------------------------------------------------------------------------------------------------------------------------------------------------------------------------------------------------------------------------------------------------------------------------------------------------------------------------------------------------------------------------------------------------------------------------------------------------------------------------------------------------------------------------------------------------------------------------------------------------------------------------------------------------------------------------------------------------------------------------------------------------------------------------------------------------------------------------------------------------------------------------------------------------------------------------------------------------------------------------------------------------------------------------------------------------------------------------------------------------------------------+----------------------------------------------------------------------------------------------------------------------------------------------------------------------------------------------------------------------------------------------------------------------------------------------------------------------------------------------------------------------------------------------------------------------------------------------------------------------------------------------------------------------------------------------------------------------------------------------------------------------------------------------------------------------------------------------------------------------------------------------------------------------------------------------------------------------------------------------------------------------------------------------------------------------------------------------------------------------------------------------------------------------------------------------------------------------------------------------------------------------------------------------------------------------------------------------------------+-----------------------------------------------------------------------------------------------------------------------------------------------+\n",
      "|So if you are like me and you want to play as Mando with Baby Yoda in the actural Razor Crest you need a code and there is other Stuff unlockable with codes too here is the list ARVALA7 The Razor Crest ship C3PHOHO C3PO Holiday Special WOOKIEE Chewbacca Holiday Special TIPYIPS DO Holiday Special WROSHYR Darth Vader Holiday Special LIFEDAY Gonk Droid Holiday Special KORDOKU Poe Dameron Holiday Special KH7P320 Aayla Secura XV4WND9 Admiral Holdo OKV7TLR Dengar SIDIOUS The Emperor WBFE4GO Nute Gunray Z55T8CQ Poggle The Lesser GR2VBXF Ratts Tyerell 3FCPPVX Tarkin SKYSAGA Temmin Wexley listed as Snap Wexley for Lego Survey reward SHUTTLE Resistance ITS Transport ship There are two locations within the game menus where youll find a code entry screen which will let you type in any of the Lego Star Wars The Skywalker Saga cheats listed above 1 Open Holoprojector move to Extras tab then follow Enter Code prompt 2 Enter the Pause menu and select the key icon labelled Enter Code If you enter the code correctly youll receive a notification to confirm it has been accepted and revealing what has been unlocked As with previous games youll only need to enter each Lego Star Wars The Skywalker Saga cheat code once which will permanently unlock the item or feature and where applicable the option to enable or disable it through the menu|1   |[so, if, you, are, like, me, and, you, want, to, play, as, mando, with, baby, yoda, in, the, actural, razor, crest, you, need, a, code, and, there, is, other, stuff, unlockable, with, codes, too, here, is, the, list, arvala7, the, razor, crest, ship, c3phoho, c3po, holiday, special, wookiee, chewbacca, holiday, special, tipyips, do, holiday, special, wroshyr, darth, vader, holiday, special, lifeday, gonk, droid, holiday, special, kordoku, poe, dameron, holiday, special, kh7p320, aayla, secura, xv4wnd9, admiral, holdo, okv7tlr, dengar, sidious, the, emperor, wbfe4go, nute, gunray, z55t8cq, poggle, the, lesser, gr2vbxf, ratts, tyerell, 3fcppvx, tarkin, skysaga, temmin, wexley, listed, as, snap, wexley, for, lego, survey, reward, shuttle, resistance, its, transport, ship, there, are, two, locations, within, the, game, menus, where, youll, find, a, code, entry, screen, which, will, let, you, type, in, any, of, the, lego, star, wars, the, skywalker, saga, cheats, listed, above, 1, open, holoprojector, move, to, extras, tab, then, follow, enter, code, prompt, 2, enter, the, pause, menu, and, select, the, key, icon, labelled, enter, code, if, you, enter, the, code, correctly, youll, receive, a, notification, to, confirm, it, has, been, accepted, and, revealing, what, has, been, unlocked, as, with, previous, games, youll, only, need, to, enter, each, lego, star, wars, the, skywalker, saga, cheat, code, once, which, will, permanently, unlock, the, item, or, feature, and, where, applicable, the, option, to, enable, or, disable, it, through, the, menu]|[like, want, play, mando, baby, yoda, actural, razor, crest, need, code, stuff, unlockable, codes, list, arvala7, razor, crest, ship, c3phoho, c3po, holiday, special, wookiee, chewbacca, holiday, special, tipyips, holiday, special, wroshyr, darth, vader, holiday, special, lifeday, gonk, droid, holiday, special, kordoku, poe, dameron, holiday, special, kh7p320, aayla, secura, xv4wnd9, admiral, holdo, okv7tlr, dengar, sidious, emperor, wbfe4go, nute, gunray, z55t8cq, poggle, lesser, gr2vbxf, ratts, tyerell, 3fcppvx, tarkin, skysaga, temmin, wexley, listed, snap, wexley, lego, survey, reward, shuttle, resistance, transport, ship, two, locations, within, game, menus, youll, find, code, entry, screen, let, type, lego, star, wars, skywalker, saga, cheats, listed, 1, open, holoprojector, move, extras, tab, follow, enter, code, prompt, 2, enter, pause, menu, select, key, icon, labelled, enter, code, enter, code, correctly, youll, receive, notification, confirm, accepted, revealing, unlocked, previous, games, youll, need, enter, lego, star, wars, skywalker, saga, cheat, code, permanently, unlock, item, feature, applicable, option, enable, disable, menu]|(20,[0,1,2,3,4,5,6,7,8,9,10,11,12,13,14,15,16,17,18,19],[11.0,4.0,8.0,5.0,10.0,3.0,7.0,8.0,18.0,7.0,21.0,4.0,8.0,7.0,2.0,5.0,4.0,10.0,3.0,4.0])|\n",
      "|You can play as General Grievous You can kill as General Grievous You can run as General Grievous You can jump as General Grievous You can chill as General Grievous You can be on Naboo as General Grievous what was not even in the movies You can kill Darth Vader as General Grievous You can collect stuff as General Grievous You can just stand still as General Grievous You can kill General Grievous as General Grievous                                                                                                                                                                                                                                                                                                                                                                                                                                                                                                                                                                                                                                                                                                                                                                                                                                                                                                                                                       |1   |[you, can, play, as, general, grievous, you, can, kill, as, general, grievous, you, can, run, as, general, grievous, you, can, jump, as, general, grievous, you, can, chill, as, general, grievous, you, can, be, on, naboo, as, general, grievous, what, was, not, even, in, the, movies, you, can, kill, darth, vader, as, general, grievous, you, can, collect, stuff, as, general, grievous, you, can, just, stand, still, as, general, grievous, you, can, kill, general, grievous, as, general, grievous]                                                                                                                                                                                                                                                                                                                                                                                                                                                                                                                                                                                                                                                                                                                                                                                                                                                                                                                                                                                                                                                                                                                |[play, general, grievous, kill, general, grievous, run, general, grievous, jump, general, grievous, chill, general, grievous, naboo, general, grievous, even, movies, kill, darth, vader, general, grievous, collect, stuff, general, grievous, stand, still, general, grievous, kill, general, grievous, general, grievous]                                                                                                                                                                                                                                                                                                                                                                                                                                                                                                                                                                                                                                                                                                                                                                                                                                                                              |(20,[0,2,4,5,6,7,8,13,14,16,17,18],[1.0,1.0,1.0,1.0,16.0,1.0,1.0,12.0,1.0,1.0,1.0,1.0])                                                        |\n",
      "|Yoda has a fat a in this game can confirm                                                                                                                                                                                                                                                                                                                                                                                                                                                                                                                                                                                                                                                                                                                                                                                                                                                                                                                                                                                                                                                                                                                                                                                                                                                                                                                                                |1   |[yoda, has, a, fat, a, in, this, game, can, confirm]                                                                                                                                                                                                                                                                                                                                                                                                                                                                                                                                                                                                                                                                                                                                                                                                                                                                                                                                                                                                                                                                                                                                                                                                                                                                                                                                                                                                                                                                                                                                                                           |[yoda, fat, game, confirm]                                                                                                                                                                                                                                                                                                                                                                                                                                                                                                                                                                                                                                                                                                                                                                                                                                                                                                                                                                                                                                                                                                                                                                                |(20,[3,11,15,19],[1.0,1.0,1.0,1.0])                                                                                                            |\n",
      "|You can kill younglings Best Game GOTY 1010                                                                                                                                                                                                                                                                                                                                                                                                                                                                                                                                                                                                                                                                                                                                                                                                                                                                                                                                                                                                                                                                                                                                                                                                                                                                                                                                              |1   |[you, can, kill, younglings, best, game, goty, 1010]                                                                                                                                                                                                                                                                                                                                                                                                                                                                                                                                                                                                                                                                                                                                                                                                                                                                                                                                                                                                                                                                                                                                                                                                                                                                                                                                                                                                                                                                                                                                                                           |[kill, younglings, best, game, goty, 1010]                                                                                                                                                                                                                                                                                                                                                                                                                                                                                                                                                                                                                                                                                                                                                                                                                                                                                                                                                                                                                                                                                                                                                                |(20,[2,3,6,14,15,19],[1.0,1.0,1.0,1.0,1.0,1.0])                                                                                                |\n",
      "|this game is what i imagine sex is like                                                                                                                                                                                                                                                                                                                                                                                                                                                                                                                                                                                                                                                                                                                                                                                                                                                                                                                                                                                                                                                                                                                                                                                                                                                                                                                                                  |1   |[this, game, is, what, i, imagine, sex, is, like]                                                                                                                                                                                                                                                                                                                                                                                                                                                                                                                                                                                                                                                                                                                                                                                                                                                                                                                                                                                                                                                                                                                                                                                                                                                                                                                                                                                                                                                                                                                                                                              |[game, imagine, sex, like]                                                                                                                                                                                                                                                                                                                                                                                                                                                                                                                                                                                                                                                                                                                                                                                                                                                                                                                                                                                                                                                                                                                                                                                |(20,[0,3,10,15],[1.0,1.0,1.0,1.0])                                                                                                             |\n",
      "+-----------------------------------------------------------------------------------------------------------------------------------------------------------------------------------------------------------------------------------------------------------------------------------------------------------------------------------------------------------------------------------------------------------------------------------------------------------------------------------------------------------------------------------------------------------------------------------------------------------------------------------------------------------------------------------------------------------------------------------------------------------------------------------------------------------------------------------------------------------------------------------------------------------------------------------------------------------------------------------------------------------------------------------------------------------------------------------------------------------------------------------------------------------------------------------------------------------------------------------------------------------------------------------------------------------------------------------------------------------------------------------------+----+-------------------------------------------------------------------------------------------------------------------------------------------------------------------------------------------------------------------------------------------------------------------------------------------------------------------------------------------------------------------------------------------------------------------------------------------------------------------------------------------------------------------------------------------------------------------------------------------------------------------------------------------------------------------------------------------------------------------------------------------------------------------------------------------------------------------------------------------------------------------------------------------------------------------------------------------------------------------------------------------------------------------------------------------------------------------------------------------------------------------------------------------------------------------------------------------------------------------------------------------------------------------------------------------------------------------------------------------------------------------------------------------------------------------------------------------------------------------------------------------------------------------------------------------------------------------------------------------------------------------------------+----------------------------------------------------------------------------------------------------------------------------------------------------------------------------------------------------------------------------------------------------------------------------------------------------------------------------------------------------------------------------------------------------------------------------------------------------------------------------------------------------------------------------------------------------------------------------------------------------------------------------------------------------------------------------------------------------------------------------------------------------------------------------------------------------------------------------------------------------------------------------------------------------------------------------------------------------------------------------------------------------------------------------------------------------------------------------------------------------------------------------------------------------------------------------------------------------------+-----------------------------------------------------------------------------------------------------------------------------------------------+\n",
      "only showing top 5 rows\n",
      "\n",
      "+----+-----------------------------------------------------------------------------------------------------------------------------------------------------------------------------------------------------------------------------------------------------------------------------------------------------------------------------------------------------------------------------------------------------------------------------------------+\n",
      "|vote|features                                                                                                                                                                                                                                                                                                                                                                                                                                 |\n",
      "+----+-----------------------------------------------------------------------------------------------------------------------------------------------------------------------------------------------------------------------------------------------------------------------------------------------------------------------------------------------------------------------------------------------------------------------------------------+\n",
      "|1   |(20,[0,1,2,3,4,5,6,7,8,9,10,11,12,13,14,15,16,17,18,19],[7.587605974845751,3.4477363404050503,7.49743920739771,4.115105076843467,7.468656582287913,2.423896614537456,5.535375306163371,6.3225343310795745,13.109401827165996,6.100822081223345,14.634586969858194,3.9048904073729185,6.82586944408615,5.167396027636087,1.8099153493906261,1.8888120533803852,3.559587207898998,7.052248888566228,2.7318816869659077,3.1653373334751356])|\n",
      "|1   |(20,[0,2,4,5,6,7,8,13,14,16,17,18],[0.6897823613496137,0.9371799009247137,0.7468656582287914,0.8079655381791521,12.652286414087706,0.7903167913849468,0.728300101509222,8.858393190233294,0.9049576746953131,0.8898968019747495,0.7052248888566228,0.9106272289886359])                                                                                                                                                                  |\n",
      "|1   |(20,[3,11,15,19],[0.8230210153686934,0.9762226018432296,0.377762410676077,0.7913343333687839])                                                                                                                                                                                                                                                                                                                                           |\n",
      "|1   |(20,[2,3,6,14,15,19],[0.9371799009247137,0.8230210153686934,0.7907679008804817,0.9049576746953131,0.377762410676077,0.7913343333687839])                                                                                                                                                                                                                                                                                                 |\n",
      "|1   |(20,[0,3,10,15],[0.6897823613496137,0.8230210153686934,0.6968850938027712,0.377762410676077])                                                                                                                                                                                                                                                                                                                                            |\n",
      "+----+-----------------------------------------------------------------------------------------------------------------------------------------------------------------------------------------------------------------------------------------------------------------------------------------------------------------------------------------------------------------------------------------------------------------------------------------+\n",
      "only showing top 5 rows\n",
      "\n"
     ]
    }
   ],
   "source": [
    "tokenizer = Tokenizer(inputCol=\"review\", outputCol=\"words\")\n",
    "wordsData = tokenizer.transform(review_info)\n",
    "wordsData.show(5, truncate=False)\n",
    "\n",
    "remover = StopWordsRemover(inputCol=\"words\", outputCol=\"filtered\")\n",
    "filtData = remover.transform(wordsData)\n",
    "filtData.show(5, truncate=False)\n",
    "\n",
    "hashingTF = HashingTF(inputCol=\"filtered\", outputCol=\"rawFeatures\", numFeatures=20)\n",
    "featurizedData = hashingTF.transform(filtData)\n",
    "# alternatively, CountVectorizer can also be used to get term frequency vectors\n",
    "featurizedData.show(5, truncate=False)\n",
    "\n",
    "idf = IDF(inputCol=\"rawFeatures\", outputCol=\"features\")\n",
    "idfModel = idf.fit(featurizedData)\n",
    "rescaledData = idfModel.transform(featurizedData)\n",
    "\n",
    "rescaledData.select(\"vote\", \"features\").show(5, truncate=False)"
   ]
  },
  {
   "cell_type": "code",
   "execution_count": null,
   "metadata": {},
   "outputs": [],
   "source": [
    "rescaledData = rescaledData.withColumnRenamed(\"vote\", \"label\").filter(size(\"words\") > 1)"
   ]
  },
  {
   "cell_type": "code",
   "execution_count": null,
   "metadata": {},
   "outputs": [
    {
     "name": "stdout",
     "output_type": "stream",
     "text": [
      "+--------------------+-----+--------------------+--------------------+--------------------+--------------------+\n",
      "|              review|label|               words|            filtered|         rawFeatures|            features|\n",
      "+--------------------+-----+--------------------+--------------------+--------------------+--------------------+\n",
      "|So if you are lik...|    1|[so, if, you, are...|[like, want, play...|(20,[0,1,2,3,4,5,...|(20,[0,1,2,3,4,5,...|\n",
      "|You can play as G...|    1|[you, can, play, ...|[play, general, g...|(20,[0,2,4,5,6,7,...|(20,[0,2,4,5,6,7,...|\n",
      "|Yoda has a fat a ...|    1|[yoda, has, a, fa...|[yoda, fat, game,...|(20,[3,11,15,19],...|(20,[3,11,15,19],...|\n",
      "|You can kill youn...|    1|[you, can, kill, ...|[kill, younglings...|(20,[2,3,6,14,15,...|(20,[2,3,6,14,15,...|\n",
      "|this game is what...|    1|[this, game, is, ...|[game, imagine, s...|(20,[0,3,10,15],[...|(20,[0,3,10,15],[...|\n",
      "+--------------------+-----+--------------------+--------------------+--------------------+--------------------+\n",
      "only showing top 5 rows\n",
      "\n"
     ]
    }
   ],
   "source": [
    "rescaledData.show(5)"
   ]
  },
  {
   "cell_type": "code",
   "execution_count": 13,
   "metadata": {},
   "outputs": [],
   "source": [
    "# split dataset into 0.8/0.2 (train/val/test)\n",
    "# train_set, test_set = rescaledData.randomSplit([0.8, 0.2], seed = 336)\n",
    "zeros = rescaledData.filter(rescaledData[\"label\"]==0)\n",
    "ones = rescaledData.filter(rescaledData[\"label\"]==1)\n",
    "# split datasets into training and testing\n",
    "train0, test0 = zeros.randomSplit([0.8,0.2], seed=1234)\n",
    "train1, test1 = ones.randomSplit([0.8,0.2], seed=1234)\n",
    "# stack datasets back together\n",
    "train_set = train0.union(train1)\n",
    "test_set = test0.union(test1)"
   ]
  },
  {
   "cell_type": "code",
   "execution_count": 14,
   "metadata": {},
   "outputs": [
    {
     "name": "stdout",
     "output_type": "stream",
     "text": [
      "+--------------------+-----+--------------------+--------------------+--------------------+--------------------+\n",
      "|              review|label|               words|            filtered|         rawFeatures|            features|\n",
      "+--------------------+-----+--------------------+--------------------+--------------------+--------------------+\n",
      "|    1060 No 1060 Yes|    0|[, 1060, no, 1060...| [, 1060, 1060, yes]|(20,[1,12,15],[2....|(20,[1,12,15],[1....|\n",
      "| 14082013 You can...|    0|[, 14082013, you,...|[, 14082013, buy,...|(20,[0,1,2,4,5,6,...|(20,[0,1,2,4,5,6,...|\n",
      "| 5 PM game isnt o...|    0|[, 5, pm, game, i...|[, 5, pm, game, i...|(20,[0,1,2,3,4,5,...|(20,[0,1,2,3,4,5,...|\n",
      "| 6 years of devel...|    0|[, 6, years, of, ...|[, 6, years, deve...|(20,[0,2,5,6,8,12...|(20,[0,2,5,6,8,12...|\n",
      "| 6 years since CS...|    0|[, 6, years, sinc...|[, 6, years, sinc...|(20,[0,1,2,4,5,6,...|(20,[0,1,2,4,5,6,...|\n",
      "+--------------------+-----+--------------------+--------------------+--------------------+--------------------+\n",
      "only showing top 5 rows\n",
      "\n"
     ]
    }
   ],
   "source": [
    "train_set.show(5)"
   ]
  },
  {
   "cell_type": "code",
   "execution_count": null,
   "metadata": {},
   "outputs": [],
   "source": [
    "from pyspark.ml.classification import LogisticRegression\n",
    "\n",
    "lr = LogisticRegression(maxIter=100)\n",
    "lrModel = lr.fit(train_set)\n",
    "predictions = lrModel.transform(test_set)\n",
    "\n",
    "from pyspark.ml.evaluation import BinaryClassificationEvaluator\n",
    "evaluator = BinaryClassificationEvaluator(rawPredictionCol=\"rawPrediction\")\n",
    "evaluator.evaluate(predictions)"
   ]
  },
  {
   "cell_type": "code",
   "execution_count": null,
   "metadata": {},
   "outputs": [],
   "source": [
    "accuracy = predictions.filter(predictions.label == predictions.prediction).count() / float(test_set.count())\n",
    "accuracy"
   ]
  },
  {
   "cell_type": "code",
   "execution_count": null,
   "metadata": {},
   "outputs": [],
   "source": []
  },
  {
   "cell_type": "markdown",
   "metadata": {},
   "source": [
    "## Improve with Ngram method"
   ]
  },
  {
   "cell_type": "code",
   "execution_count": null,
   "metadata": {},
   "outputs": [],
   "source": [
    "# tokenizer = Tokenizer(inputCol=\"review\", outputCol=\"words\")\n",
    "# wordsData = tokenizer.transform(review_info)\n",
    "# wordsData.show(5, truncate=False)\n",
    "\n",
    "# remover = StopWordsRemover(inputCol=\"words\", outputCol=\"filtered\")\n",
    "# filtData = remover.transform(wordsData)\n",
    "# filtData.show(5, truncate=False)\n",
    "\n",
    "# ngram = NGram(n=2, inputCol=\"filtered\", outputCol=\"ngrams\")\n",
    "# ngramData = ngram.transform(filtData)\n",
    "\n",
    "# hashingTF = HashingTF(inputCol=\"ngrams\", outputCol=\"rawFeatures\", numFeatures=20)\n",
    "# featurizedData = hashingTF.transform(ngramData)\n",
    "# # alternatively, CountVectorizer can also be used to get term frequency vectors\n",
    "# featurizedData.show(5, truncate=False)\n",
    "\n",
    "# idf = IDF(inputCol=\"rawFeatures\", outputCol=\"features\")\n",
    "# idfModel = idf.fit(featurizedData)\n",
    "# rescaledData = idfModel.transform(featurizedData)"
   ]
  },
  {
   "cell_type": "code",
   "execution_count": 7,
   "metadata": {},
   "outputs": [],
   "source": [
    "# Write in the pipeline structure\n",
    "\n",
    "tokenizer = Tokenizer(inputCol=\"review\", outputCol=\"words\")\n",
    "\n",
    "remover = StopWordsRemover(inputCol=tokenizer.getOutputCol(), outputCol=\"filtered\")\n",
    "\n",
    "ngram = NGram(n=2, inputCol=remover.getOutputCol(), outputCol=\"ngrams\")\n",
    "\n",
    "hashingTF = HashingTF(inputCol=ngram.getOutputCol(), outputCol=\"rawFeatures\", numFeatures=20)\n",
    "\n",
    "idf = IDF(inputCol=hashingTF.getOutputCol(), outputCol=\"features\")\n",
    "\n",
    "pipeline = Pipeline(stages=[tokenizer, remover, ngram, hashingTF, idf])"
   ]
  },
  {
   "cell_type": "code",
   "execution_count": 8,
   "metadata": {},
   "outputs": [],
   "source": [
    "review_info = review_info.na.drop(subset=[\"review\"])"
   ]
  },
  {
   "cell_type": "code",
   "execution_count": 9,
   "metadata": {},
   "outputs": [],
   "source": [
    "review_info = review_info.withColumnRenamed(\"vote\", \"label\")"
   ]
  },
  {
   "cell_type": "code",
   "execution_count": 10,
   "metadata": {},
   "outputs": [],
   "source": [
    "pipelineFit = pipeline.fit(review_info)\n",
    "pipe_data = pipelineFit.transform(review_info)\n",
    "pipe_data = pipe_data.filter(size(\"words\")>1).filter(size(\"ngrams\")>1).select(\"label\",\"features\")\n",
    "pipe_data = pipe_data.where(col(\"features\").isNotNull()) \n",
    "pipe_data = pipe_data.where(col(\"label\").isNotNull()) "
   ]
  },
  {
   "cell_type": "code",
   "execution_count": 12,
   "metadata": {},
   "outputs": [],
   "source": [
    "# stratify the randomsplit\n",
    "zeros = pipe_data.filter(pipe_data[\"label\"]==0)\n",
    "ones = pipe_data.filter(pipe_data[\"label\"]==1)\n",
    "# split datasets into training and testing\n",
    "train0, test0 = zeros.randomSplit([0.8,0.2], seed=1234)\n",
    "train1, test1 = ones.randomSplit([0.8,0.2], seed=1234)\n",
    "# stack datasets back together\n",
    "train = train0.union(train1)\n",
    "test = test0.union(test1)"
   ]
  },
  {
   "cell_type": "code",
   "execution_count": null,
   "metadata": {},
   "outputs": [],
   "source": [
    "lr2 = LogisticRegression(maxIter=500)\n",
    "lr_model = lr2.fit(train.where(col(\"features\").isNotNull()))\n",
    "predictions = lr_model.transform(test)"
   ]
  },
  {
   "cell_type": "code",
   "execution_count": null,
   "metadata": {},
   "outputs": [
    {
     "data": {
      "text/plain": [
       "0.8198213392033603"
      ]
     },
     "execution_count": 26,
     "metadata": {},
     "output_type": "execute_result"
    }
   ],
   "source": [
    "accuracy = predictions.filter(predictions.label == predictions.prediction).count() / float(test.count())\n",
    "roc_auc = evaluator.evaluate(predictions)"
   ]
  },
  {
   "cell_type": "code",
   "execution_count": 30,
   "metadata": {},
   "outputs": [
    {
     "data": {
      "text/plain": [
       "0.8198213392033603"
      ]
     },
     "execution_count": 30,
     "metadata": {},
     "output_type": "execute_result"
    }
   ],
   "source": [
    "accuracy"
   ]
  },
  {
   "cell_type": "code",
   "execution_count": 33,
   "metadata": {},
   "outputs": [
    {
     "name": "stdout",
     "output_type": "stream",
     "text": [
      "+-----+--------------------+--------------------+--------------------+----------+\n",
      "|label|            features|       rawPrediction|         probability|prediction|\n",
      "+-----+--------------------+--------------------+--------------------+----------+\n",
      "|    0|(20,[0],[34.85728...|[-0.0757906155245...|[0.48106141086549...|       1.0|\n",
      "|    0|(20,[0,1],[0.9959...|[-1.1659609178260...|[0.23758584317283...|       1.0|\n",
      "|    0|(20,[0,1],[0.9959...|[-1.1659609178260...|[0.23758584317283...|       1.0|\n",
      "|    0|(20,[0,1,2,3,4,5,...|[-1.1342934797478...|[0.24336962503038...|       1.0|\n",
      "|    0|(20,[0,1,2,3,4,5,...|[-1.0361236345733...|[0.26189863344517...|       1.0|\n",
      "|    0|(20,[0,1,2,3,4,5,...|[-1.0625662166428...|[0.25681935286546...|       1.0|\n",
      "|    0|(20,[0,1,2,3,4,5,...|[-1.3015058373132...|[0.21391169608596...|       1.0|\n",
      "|    0|(20,[0,1,2,3,4,5,...|[-1.0004315939004...|[0.26885657332151...|       1.0|\n",
      "|    0|(20,[0,1,2,3,4,5,...|[-1.2114296461323...|[0.22944818929932...|       1.0|\n",
      "|    0|(20,[0,1,2,3,4,5,...|[-0.9591334738897...|[0.27705172137817...|       1.0|\n",
      "|    0|(20,[0,1,2,3,4,5,...|[-0.9610060266241...|[0.27667681680458...|       1.0|\n",
      "|    0|(20,[0,1,2,3,4,5,...|[-0.8227065931392...|[0.30518942752748...|       1.0|\n",
      "|    0|(20,[0,1,2,3,4,5,...|[-1.0493510330306...|[0.25934973975984...|       1.0|\n",
      "|    0|(20,[0,1,2,3,4,5,...|[-1.0772025034407...|[0.25403578187734...|       1.0|\n",
      "|    0|(20,[0,1,2,3,4,5,...|[-1.1160166156009...|[0.24675090778085...|       1.0|\n",
      "|    0|(20,[0,1,2,3,4,5,...|[-1.1503787135582...|[0.24041991627137...|       1.0|\n",
      "|    0|(20,[0,1,2,3,4,5,...|[-1.1497938326142...|[0.24052674238062...|       1.0|\n",
      "|    0|(20,[0,1,2,3,4,5,...|[-1.1288772967117...|[0.24436835132712...|       1.0|\n",
      "|    0|(20,[0,1,2,3,4,5,...|[-1.0188481933894...|[0.26525181921097...|       1.0|\n",
      "|    0|(20,[0,1,2,3,4,5,...|[-0.9990209564721...|[0.26913395654997...|       1.0|\n",
      "+-----+--------------------+--------------------+--------------------+----------+\n",
      "only showing top 20 rows\n",
      "\n"
     ]
    }
   ],
   "source": [
    "predictions.show()"
   ]
  },
  {
   "cell_type": "code",
   "execution_count": null,
   "metadata": {},
   "outputs": [
    {
     "data": {
      "text/plain": [
       "0.7424723232521575"
      ]
     },
     "execution_count": 31,
     "metadata": {},
     "output_type": "execute_result"
    }
   ],
   "source": [
    "from pyspark.mllib.evaluation import MulticlassMetrics\n",
    "\n",
    "my_lr = MulticlassClassificationEvaluator(predictionCol='prediction', labelCol='label', metricName='f1')\n",
    "my_lr.evaluate(predictions)"
   ]
  },
  {
   "cell_type": "code",
   "execution_count": 15,
   "metadata": {},
   "outputs": [
    {
     "name": "stdout",
     "output_type": "stream",
     "text": [
      "5\n"
     ]
    }
   ],
   "source": [
    "print(5)"
   ]
  },
  {
   "cell_type": "code",
   "execution_count": 14,
   "metadata": {},
   "outputs": [],
   "source": [
    "from pyspark.ml.evaluation import MulticlassClassificationEvaluator\n",
    "\n",
    "# Select (prediction, true label) and compute test error\n",
    "f1_evaluator = MulticlassClassificationEvaluator(labelCol='label', predictionCol=\"prediction\", metricName=\"f1\")"
   ]
  },
  {
   "cell_type": "code",
   "execution_count": null,
   "metadata": {},
   "outputs": [
    {
     "name": "stdout",
     "output_type": "stream",
     "text": [
      "A single decision tree had a f1 of: 75.13%\n"
     ]
    }
   ],
   "source": [
    "# other methods\n",
    "from pyspark.ml.classification import DecisionTreeClassifier,GBTClassifier,RandomForestClassifier\n",
    "\n",
    "dtc = DecisionTreeClassifier(labelCol='label',featuresCol='features')\n",
    "dtc_model = dtc.fit(train)\n",
    "dtc_predictions = dtc_model.transform(test)\n",
    "dtc_f1 = f1_evaluator.evaluate(dtc_predictions)\n",
    "print('A single decision tree had a f1 of: {0:2.2f}%'.format(dtc_f1*100))"
   ]
  },
  {
   "cell_type": "code",
   "execution_count": null,
   "metadata": {},
   "outputs": [
    {
     "name": "stdout",
     "output_type": "stream",
     "text": [
      "A random forest ensemble had a f1 of: 75.10%\n"
     ]
    }
   ],
   "source": [
    "# Train the models (its three models, so it might take some time)\n",
    "rfc = RandomForestClassifier(labelCol='label',featuresCol='features')\n",
    "rfc_model = rfc.fit(train)\n",
    "rfc_predictions = rfc_model.transform(test)\n",
    "rfc_f1 = f1_evaluator.evaluate(rfc_predictions)\n",
    "print('A random forest ensemble had a f1 of: {0:2.2f}%'.format(rfc_f1*100))"
   ]
  },
  {
   "cell_type": "code",
   "execution_count": null,
   "metadata": {},
   "outputs": [
    {
     "name": "stdout",
     "output_type": "stream",
     "text": [
      "A ensemble using GBT hada f1 of: 75.35%\n"
     ]
    }
   ],
   "source": [
    "from pyspark.ml.classification import DecisionTreeClassifier,GBTClassifier,RandomForestClassifier\n",
    "\n",
    "gbt = GBTClassifier(labelCol='label',featuresCol='features')\n",
    "gbt_model = gbt.fit(train)\n",
    "gbt_predictions = gbt_model.transform(test)\n",
    "gbt_f1 = f1_evaluator.evaluate(gbt_predictions)\n",
    "print('A ensemble using GBT hada f1 of: {0:2.2f}%'.format(gbt_f1*100))"
   ]
  },
  {
   "cell_type": "code",
   "execution_count": null,
   "metadata": {},
   "outputs": [],
   "source": []
  }
 ],
 "metadata": {
  "kernelspec": {
   "display_name": "Python 3",
   "language": "python",
   "name": "python3"
  },
  "language_info": {
   "codemirror_mode": {
    "name": "ipython",
    "version": 3
   },
   "file_extension": ".py",
   "mimetype": "text/x-python",
   "name": "python",
   "nbconvert_exporter": "python",
   "pygments_lexer": "ipython3",
   "version": "3.6.13"
  }
 },
 "nbformat": 4,
 "nbformat_minor": 4
}
