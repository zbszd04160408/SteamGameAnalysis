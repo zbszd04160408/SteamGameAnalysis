{
 "cells": [
  {
   "cell_type": "markdown",
   "metadata": {},
   "source": [
    "## Data Pre-processing"
   ]
  },
  {
   "cell_type": "code",
   "execution_count": 2,
   "metadata": {},
   "outputs": [],
   "source": [
    "import os\n",
    "import pandas as pd\n",
    "from pyspark.sql import SparkSession\n",
    "os.environ[\"JAVA_HOME\"] = \"/usr/lib/jvm/java-8-openjdk-amd64\"\n",
    "\n",
    "spark = SparkSession.builder.master(\"local[8]\").appName(\"DataFrame\").getOrCreate()"
   ]
  },
  {
   "cell_type": "code",
   "execution_count": null,
   "metadata": {},
   "outputs": [],
   "source": [
    "review_df = pd.read_csv(\"./home/steam/Game_Reviews.csv\")\n",
    "cf_df = review_df[['id', 'steamid', 'voted_up']].drop_duplicates()\n",
    "cf_df.to_csv(\"./home/steam/cf.csv\")"
   ]
  },
  {
   "cell_type": "code",
   "execution_count": 2,
   "metadata": {},
   "outputs": [
    {
     "data": {
      "text/html": [
       "<div>\n",
       "<style scoped>\n",
       "    .dataframe tbody tr th:only-of-type {\n",
       "        vertical-align: middle;\n",
       "    }\n",
       "\n",
       "    .dataframe tbody tr th {\n",
       "        vertical-align: top;\n",
       "    }\n",
       "\n",
       "    .dataframe thead th {\n",
       "        text-align: right;\n",
       "    }\n",
       "</style>\n",
       "<table border=\"1\" class=\"dataframe\">\n",
       "  <thead>\n",
       "    <tr style=\"text-align: right;\">\n",
       "      <th></th>\n",
       "      <th>Unnamed: 0</th>\n",
       "      <th>id</th>\n",
       "      <th>steamid</th>\n",
       "      <th>voted_up</th>\n",
       "    </tr>\n",
       "  </thead>\n",
       "  <tbody>\n",
       "    <tr>\n",
       "      <th>0</th>\n",
       "      <td>0</td>\n",
       "      <td>920210</td>\n",
       "      <td>76561198021087473</td>\n",
       "      <td>True</td>\n",
       "    </tr>\n",
       "    <tr>\n",
       "      <th>1</th>\n",
       "      <td>1</td>\n",
       "      <td>920210</td>\n",
       "      <td>76561198065754924</td>\n",
       "      <td>True</td>\n",
       "    </tr>\n",
       "    <tr>\n",
       "      <th>2</th>\n",
       "      <td>2</td>\n",
       "      <td>920210</td>\n",
       "      <td>76561199122198186</td>\n",
       "      <td>True</td>\n",
       "    </tr>\n",
       "    <tr>\n",
       "      <th>3</th>\n",
       "      <td>3</td>\n",
       "      <td>920210</td>\n",
       "      <td>76561198007644548</td>\n",
       "      <td>True</td>\n",
       "    </tr>\n",
       "    <tr>\n",
       "      <th>4</th>\n",
       "      <td>4</td>\n",
       "      <td>920210</td>\n",
       "      <td>76561198290950126</td>\n",
       "      <td>True</td>\n",
       "    </tr>\n",
       "  </tbody>\n",
       "</table>\n",
       "</div>"
      ],
      "text/plain": [
       "   Unnamed: 0      id            steamid  voted_up\n",
       "0           0  920210  76561198021087473      True\n",
       "1           1  920210  76561198065754924      True\n",
       "2           2  920210  76561199122198186      True\n",
       "3           3  920210  76561198007644548      True\n",
       "4           4  920210  76561198290950126      True"
      ]
     },
     "execution_count": 2,
     "metadata": {},
     "output_type": "execute_result"
    }
   ],
   "source": [
    "cf_df = pd.read_csv(\"./home/steam/cf.csv\")\n",
    "cf_df.head()"
   ]
  },
  {
   "cell_type": "code",
   "execution_count": 3,
   "metadata": {},
   "outputs": [
    {
     "data": {
      "text/html": [
       "<div>\n",
       "<style scoped>\n",
       "    .dataframe tbody tr th:only-of-type {\n",
       "        vertical-align: middle;\n",
       "    }\n",
       "\n",
       "    .dataframe tbody tr th {\n",
       "        vertical-align: top;\n",
       "    }\n",
       "\n",
       "    .dataframe thead th {\n",
       "        text-align: right;\n",
       "    }\n",
       "</style>\n",
       "<table border=\"1\" class=\"dataframe\">\n",
       "  <thead>\n",
       "    <tr style=\"text-align: right;\">\n",
       "      <th></th>\n",
       "      <th>Unnamed: 0</th>\n",
       "      <th>id</th>\n",
       "      <th>steamid</th>\n",
       "      <th>voted_up</th>\n",
       "      <th>userid</th>\n",
       "    </tr>\n",
       "  </thead>\n",
       "  <tbody>\n",
       "    <tr>\n",
       "      <th>0</th>\n",
       "      <td>0</td>\n",
       "      <td>920210</td>\n",
       "      <td>76561198021087473</td>\n",
       "      <td>True</td>\n",
       "      <td>0</td>\n",
       "    </tr>\n",
       "    <tr>\n",
       "      <th>1</th>\n",
       "      <td>1</td>\n",
       "      <td>920210</td>\n",
       "      <td>76561198065754924</td>\n",
       "      <td>True</td>\n",
       "      <td>1</td>\n",
       "    </tr>\n",
       "    <tr>\n",
       "      <th>2</th>\n",
       "      <td>2</td>\n",
       "      <td>920210</td>\n",
       "      <td>76561199122198186</td>\n",
       "      <td>True</td>\n",
       "      <td>2</td>\n",
       "    </tr>\n",
       "    <tr>\n",
       "      <th>3</th>\n",
       "      <td>3</td>\n",
       "      <td>920210</td>\n",
       "      <td>76561198007644548</td>\n",
       "      <td>True</td>\n",
       "      <td>3</td>\n",
       "    </tr>\n",
       "    <tr>\n",
       "      <th>4</th>\n",
       "      <td>4</td>\n",
       "      <td>920210</td>\n",
       "      <td>76561198290950126</td>\n",
       "      <td>True</td>\n",
       "      <td>4</td>\n",
       "    </tr>\n",
       "  </tbody>\n",
       "</table>\n",
       "</div>"
      ],
      "text/plain": [
       "   Unnamed: 0      id            steamid  voted_up  userid\n",
       "0           0  920210  76561198021087473      True       0\n",
       "1           1  920210  76561198065754924      True       1\n",
       "2           2  920210  76561199122198186      True       2\n",
       "3           3  920210  76561198007644548      True       3\n",
       "4           4  920210  76561198290950126      True       4"
      ]
     },
     "execution_count": 3,
     "metadata": {},
     "output_type": "execute_result"
    }
   ],
   "source": [
    "# remap user ids\n",
    "Id = 0\n",
    "id_dict = {}\n",
    "for i in cf_df['steamid'].unique():\n",
    "    id_dict[i]=Id\n",
    "    Id += 1\n",
    "id_dict\n",
    "\n",
    "def change_id(row):\n",
    "    steam_id = row['steamid']\n",
    "    newid = id_dict[steam_id]\n",
    "    return newid\n",
    "\n",
    "cf_df['userid'] = cf_df.apply(change_id, axis = 1)\n",
    "cf_df.head()"
   ]
  },
  {
   "cell_type": "code",
   "execution_count": 5,
   "metadata": {},
   "outputs": [],
   "source": [
    "cf_df = cf_df.rename(columns={'id':\"gameid\"})[['gameid', 'userid', 'voted_up']]\n",
    "cf_df.to_csv(\"./home/steam/updated_cf.csv\", index=False)"
   ]
  },
  {
   "cell_type": "markdown",
   "metadata": {},
   "source": [
    "## Read Data"
   ]
  },
  {
   "cell_type": "code",
   "execution_count": 3,
   "metadata": {},
   "outputs": [],
   "source": [
    "cf_rdd = spark.read.csv('hdfs://cluster-steam-m/user/dataproc/updated_cf.csv',header=True)"
   ]
  },
  {
   "cell_type": "code",
   "execution_count": 4,
   "metadata": {},
   "outputs": [
    {
     "name": "stdout",
     "output_type": "stream",
     "text": [
      "+------+------+------+\n",
      "|gameid|userid|rating|\n",
      "+------+------+------+\n",
      "|920210|     0|     5|\n",
      "|920210|     1|     5|\n",
      "|920210|     2|     5|\n",
      "|920210|     3|     5|\n",
      "|920210|     4|     5|\n",
      "|920210|     5|     5|\n",
      "|920210|     6|     5|\n",
      "|920210|     7|     5|\n",
      "|920210|     8|     5|\n",
      "|920210|     9|     5|\n",
      "|920210|    10|     5|\n",
      "|920210|    11|     5|\n",
      "|920210|    12|     5|\n",
      "|920210|    13|     5|\n",
      "|920210|    14|     5|\n",
      "|920210|    15|     5|\n",
      "|920210|    16|     5|\n",
      "|920210|    17|     5|\n",
      "|920210|    18|     5|\n",
      "|920210|    19|     5|\n",
      "+------+------+------+\n",
      "only showing top 20 rows\n",
      "\n"
     ]
    }
   ],
   "source": [
    "from pyspark.sql.functions import when\n",
    "\n",
    "cf_rdd = cf_rdd.withColumn(\"rating\", when(cf_rdd.voted_up == \"True\",5) \\\n",
    "      .when(cf_rdd.voted_up == \"False\",1)).select(\"gameid\", \"userid\", \"rating\")\n",
    "cf_rdd.show()"
   ]
  },
  {
   "cell_type": "code",
   "execution_count": 5,
   "metadata": {},
   "outputs": [
    {
     "name": "stdout",
     "output_type": "stream",
     "text": [
      "+------+------+------+\n",
      "|gameid|userid|rating|\n",
      "+------+------+------+\n",
      "|920210|     0|     5|\n",
      "|920210|     1|     5|\n",
      "|920210|     2|     5|\n",
      "|920210|     3|     5|\n",
      "|920210|     4|     5|\n",
      "|920210|     5|     5|\n",
      "|920210|     6|     5|\n",
      "|920210|     7|     5|\n",
      "|920210|     8|     5|\n",
      "|920210|     9|     5|\n",
      "|920210|    10|     5|\n",
      "|920210|    11|     5|\n",
      "|920210|    12|     5|\n",
      "|920210|    13|     5|\n",
      "|920210|    14|     5|\n",
      "|920210|    15|     5|\n",
      "|920210|    16|     5|\n",
      "|920210|    17|     5|\n",
      "|920210|    18|     5|\n",
      "|920210|    19|     5|\n",
      "+------+------+------+\n",
      "only showing top 20 rows\n",
      "\n"
     ]
    }
   ],
   "source": [
    "from pyspark.sql.types import IntegerType\n",
    "\n",
    "cf_rdd = cf_rdd.\\\n",
    "        withColumn(\"gameid\", cf_rdd[\"gameid\"].cast(IntegerType())).\\\n",
    "        withColumn(\"userid\", cf_rdd[\"userid\"].cast(IntegerType()))\n",
    "cf_rdd.show()"
   ]
  },
  {
   "cell_type": "markdown",
   "metadata": {},
   "source": [
    "## CF"
   ]
  },
  {
   "cell_type": "code",
   "execution_count": 6,
   "metadata": {},
   "outputs": [],
   "source": [
    "(training, test) = cf_rdd.randomSplit([0.8, 0.2])"
   ]
  },
  {
   "cell_type": "code",
   "execution_count": 29,
   "metadata": {},
   "outputs": [],
   "source": [
    "from pyspark.ml.evaluation import RegressionEvaluator\n",
    "from pyspark.ml.recommendation import ALS\n",
    "from pyspark.sql import Row\n",
    "\n",
    "als = ALS(maxIter=5, regParam=0.01, userCol=\"userid\", itemCol=\"gameid\", ratingCol=\"rating\",\n",
    "          rank=5,nonnegative = True, implicitPrefs = False,coldStartStrategy=\"drop\")\n",
    "model = als.fit(training)"
   ]
  },
  {
   "cell_type": "code",
   "execution_count": 30,
   "metadata": {},
   "outputs": [
    {
     "name": "stdout",
     "output_type": "stream",
     "text": [
      "+------+-------+------+----------+\n",
      "|gameid| userid|rating|prediction|\n",
      "+------+-------+------+----------+\n",
      "|  9900|1105600|     5| 6.3294764|\n",
      "|  9900| 269947|     1|  7.871271|\n",
      "|  9900|1734476|     1| 5.9641733|\n",
      "|  9900|1734482|     5|  9.966679|\n",
      "|  9900|1734471|     5|  6.019036|\n",
      "|  9900|1734468|     1|  9.279769|\n",
      "|  9900| 466961|     1|  8.418024|\n",
      "|  9900|1224431|     5| 6.2005367|\n",
      "|  9900| 479448|     5| 7.0406437|\n",
      "|  9900| 233239|     5|  9.469792|\n",
      "|  9900|1734457|     5|  8.079119|\n",
      "|  9900|1734488|     1|    8.1271|\n",
      "|  9900|1583440|     5| 6.8447466|\n",
      "|  9900|1734465|     5| 7.7213335|\n",
      "|  9900|1734498|     1| 4.4306645|\n",
      "|  9900|1734490|     1|  9.446645|\n",
      "|  9900|1734473|     1| 3.3659592|\n",
      "|  9900| 782409|     1|  7.102413|\n",
      "|  9900| 553913|     1| 1.3634845|\n",
      "| 32460|1962811|     5|  4.393107|\n",
      "| 32460|3518618|     5|  5.450842|\n",
      "| 32460|1027236|     1|  5.308881|\n",
      "| 32460| 116355|     5|  5.341689|\n",
      "| 32460| 318240|     5| 4.5154886|\n",
      "| 32460|3518811|     5|  5.223428|\n",
      "| 32460|1010095|     1|  4.763158|\n",
      "| 32460|3751807|     5| 4.6860886|\n",
      "| 32460| 162556|     5|  5.393522|\n",
      "| 32460|2608456|     5|0.29382008|\n",
      "| 32460|1362782|     5| 5.7001686|\n",
      "| 32460|3179651|     5|  5.156186|\n",
      "| 32460|3751957|     5| 3.3526206|\n",
      "| 32460| 501351|     5|  4.930826|\n",
      "| 32460| 457881|     5| 3.3649595|\n",
      "| 32460|1962601|     5| 4.1995234|\n",
      "| 32460|2984992|     1|  4.652316|\n",
      "| 32460|3519079|     5|  5.010446|\n",
      "| 32460|3025557|     5| 5.3680177|\n",
      "| 32460|1034001|     5|  3.969051|\n",
      "| 32460|2055200|     5|  4.831745|\n",
      "| 32460|2327025|     5| 5.0825553|\n",
      "| 32460|2723818|     5|  4.562286|\n",
      "| 32460|1363477|     5|  5.033961|\n",
      "| 32460|1025364|     5|  5.378611|\n",
      "| 32460|2824098|     5| 5.3358135|\n",
      "| 32460|3518793|     5|  5.450842|\n",
      "| 32460| 410639|     5|   4.90541|\n",
      "| 32460|2085854|     1| 3.8623605|\n",
      "| 32460| 530136|     5|  4.649256|\n",
      "| 32460|2282675|     5| 4.9534693|\n",
      "+------+-------+------+----------+\n",
      "only showing top 50 rows\n",
      "\n"
     ]
    }
   ],
   "source": [
    "predictions = model.transform(test)\n",
    "predictions.show(50)"
   ]
  },
  {
   "cell_type": "code",
   "execution_count": null,
   "metadata": {},
   "outputs": [],
   "source": [
    "from pyspark.sql.functions import mean as _mean, stddev as _stddev, col\n",
    "\n",
    "df_stats = predictions.select(\n",
    "    _mean(col('prediction')).alias('mean')).collect()\n",
    "\n",
    "mean = df_stats[0]['mean']"
   ]
  },
  {
   "cell_type": "code",
   "execution_count": null,
   "metadata": {},
   "outputs": [],
   "source": [
    "mean"
   ]
  },
  {
   "cell_type": "code",
   "execution_count": 21,
   "metadata": {},
   "outputs": [
    {
     "name": "stdout",
     "output_type": "stream",
     "text": [
      "+------+-------+------+----------+-----------+\n",
      "|gameid| userid|rating|prediction|pred_rating|\n",
      "+------+-------+------+----------+-----------+\n",
      "|  9900|1105600|     5| 10.116807|        5.0|\n",
      "|  9900| 269947|     1| -5.218788|        1.0|\n",
      "|  9900|1734476|     1| -5.429006|        1.0|\n",
      "|  9900|1734482|     5|  9.843704|        5.0|\n",
      "|  9900|1734471|     5| 11.920536|        5.0|\n",
      "|  9900|1734468|     1|  8.452037|        5.0|\n",
      "|  9900| 466961|     1|  1.914526|        1.0|\n",
      "|  9900|1224431|     5| 11.891155|        5.0|\n",
      "|  9900| 479448|     5| 11.645497|        5.0|\n",
      "|  9900| 233239|     5| 15.080063|        5.0|\n",
      "|  9900|1734457|     5| 0.7760112|        1.0|\n",
      "|  9900|1734488|     1|  2.587336|        1.0|\n",
      "|  9900|1583440|     5| 19.921112|        5.0|\n",
      "|  9900|1734465|     5| 7.7800303|        5.0|\n",
      "|  9900|1734498|     1| 12.380391|        5.0|\n",
      "|  9900|1734490|     1|-12.746338|        1.0|\n",
      "|  9900|1734473|     1|-7.9787073|        1.0|\n",
      "|  9900| 782409|     1|  7.576628|        5.0|\n",
      "|  9900| 553913|     1| 10.377243|        5.0|\n",
      "| 32460|1962811|     5|  6.651907|        5.0|\n",
      "+------+-------+------+----------+-----------+\n",
      "only showing top 20 rows\n",
      "\n"
     ]
    }
   ],
   "source": [
    "predictions = predictions.withColumn(\"pred_rating\", when(predictions.prediction > mean, float(5)) \\\n",
    "      .when(predictions.prediction <= mean,float(1)))\n",
    "predictions.show()"
   ]
  },
  {
   "cell_type": "code",
   "execution_count": 12,
   "metadata": {},
   "outputs": [
    {
     "name": "stdout",
     "output_type": "stream",
     "text": [
      "Root-mean-square error = 2.5735300275968322\n"
     ]
    }
   ],
   "source": [
    "rmse_evaluator = RegressionEvaluator(metricName=\"rmse\", labelCol=\"rating\",predictionCol=\"pred_rating\")\n",
    "rmse = rmse_evaluator.evaluate(predictions)\n",
    "print(\"Root-mean-square error = \" + str(rmse))"
   ]
  },
  {
   "cell_type": "code",
   "execution_count": 15,
   "metadata": {},
   "outputs": [
    {
     "name": "stdout",
     "output_type": "stream",
     "text": [
      "F1: 0.638907525981512\n"
     ]
    }
   ],
   "source": [
    "from pyspark.ml.evaluation import MulticlassClassificationEvaluator\n",
    "f1_evaluator = MulticlassClassificationEvaluator(\n",
    "    labelCol=\"rating\", predictionCol=\"pred_rating\", metricName=\"f1\")\n",
    "accuracy = acc_evaluator.evaluate(predictions)\n",
    "print(\"F1:\", accuracy)"
   ]
  },
  {
   "cell_type": "code",
   "execution_count": 31,
   "metadata": {},
   "outputs": [
    {
     "name": "stdout",
     "output_type": "stream",
     "text": [
      "Threshold = 0.000000, Root-mean-square error = 1.631726, F1 = 0.758992\n",
      "Threshold = 1.000000, Root-mean-square error = 1.693102, F1 = 0.784772\n",
      "Threshold = 2.000000, Root-mean-square error = 1.776153, F1 = 0.790665\n",
      "Threshold = 3.000000, Root-mean-square error = 2.020344, F1 = 0.764271\n",
      "Threshold = 4.000000, Root-mean-square error = 2.625721, F1 = 0.621995\n",
      "Threshold = 5.000000, Root-mean-square error = 3.489669, F1 = 0.194589\n"
     ]
    },
    {
     "ename": "KeyboardInterrupt",
     "evalue": "",
     "output_type": "error",
     "traceback": [
      "\u001b[0;31m---------------------------------------------------------------------------\u001b[0m",
      "\u001b[0;31mKeyboardInterrupt\u001b[0m                         Traceback (most recent call last)",
      "\u001b[0;32m<ipython-input-31-4eab0f41ad37>\u001b[0m in \u001b[0;36m<module>\u001b[0;34m\u001b[0m\n\u001b[1;32m      2\u001b[0m     adjust_predictions = predictions.withColumn(\"pred_rating\", when(predictions.prediction > threshold, float(5)) \\\n\u001b[1;32m      3\u001b[0m       .when(predictions.prediction <= threshold,float(1)))\n\u001b[0;32m----> 4\u001b[0;31m     \u001b[0mrmse\u001b[0m \u001b[0;34m=\u001b[0m \u001b[0mrmse_evaluator\u001b[0m\u001b[0;34m.\u001b[0m\u001b[0mevaluate\u001b[0m\u001b[0;34m(\u001b[0m\u001b[0madjust_predictions\u001b[0m\u001b[0;34m)\u001b[0m\u001b[0;34m\u001b[0m\u001b[0;34m\u001b[0m\u001b[0m\n\u001b[0m\u001b[1;32m      5\u001b[0m     \u001b[0mf1\u001b[0m \u001b[0;34m=\u001b[0m \u001b[0mf1_evaluator\u001b[0m\u001b[0;34m.\u001b[0m\u001b[0mevaluate\u001b[0m\u001b[0;34m(\u001b[0m\u001b[0madjust_predictions\u001b[0m\u001b[0;34m)\u001b[0m\u001b[0;34m\u001b[0m\u001b[0;34m\u001b[0m\u001b[0m\n\u001b[1;32m      6\u001b[0m     \u001b[0mprint\u001b[0m\u001b[0;34m(\u001b[0m\u001b[0;34m\"Threshold = %f, Root-mean-square error = %f, F1 = %f\"\u001b[0m \u001b[0;34m%\u001b[0m\u001b[0;34m(\u001b[0m\u001b[0mthreshold\u001b[0m\u001b[0;34m,\u001b[0m \u001b[0mrmse\u001b[0m\u001b[0;34m,\u001b[0m \u001b[0mf1\u001b[0m\u001b[0;34m)\u001b[0m\u001b[0;34m)\u001b[0m\u001b[0;34m\u001b[0m\u001b[0;34m\u001b[0m\u001b[0m\n",
      "\u001b[0;32m/usr/lib/spark/python/pyspark/ml/evaluation.py\u001b[0m in \u001b[0;36mevaluate\u001b[0;34m(self, dataset, params)\u001b[0m\n\u001b[1;32m     69\u001b[0m                 \u001b[0;32mreturn\u001b[0m \u001b[0mself\u001b[0m\u001b[0;34m.\u001b[0m\u001b[0mcopy\u001b[0m\u001b[0;34m(\u001b[0m\u001b[0mparams\u001b[0m\u001b[0;34m)\u001b[0m\u001b[0;34m.\u001b[0m\u001b[0m_evaluate\u001b[0m\u001b[0;34m(\u001b[0m\u001b[0mdataset\u001b[0m\u001b[0;34m)\u001b[0m\u001b[0;34m\u001b[0m\u001b[0;34m\u001b[0m\u001b[0m\n\u001b[1;32m     70\u001b[0m             \u001b[0;32melse\u001b[0m\u001b[0;34m:\u001b[0m\u001b[0;34m\u001b[0m\u001b[0;34m\u001b[0m\u001b[0m\n\u001b[0;32m---> 71\u001b[0;31m                 \u001b[0;32mreturn\u001b[0m \u001b[0mself\u001b[0m\u001b[0;34m.\u001b[0m\u001b[0m_evaluate\u001b[0m\u001b[0;34m(\u001b[0m\u001b[0mdataset\u001b[0m\u001b[0;34m)\u001b[0m\u001b[0;34m\u001b[0m\u001b[0;34m\u001b[0m\u001b[0m\n\u001b[0m\u001b[1;32m     72\u001b[0m         \u001b[0;32melse\u001b[0m\u001b[0;34m:\u001b[0m\u001b[0;34m\u001b[0m\u001b[0;34m\u001b[0m\u001b[0m\n\u001b[1;32m     73\u001b[0m             \u001b[0;32mraise\u001b[0m \u001b[0mValueError\u001b[0m\u001b[0;34m(\u001b[0m\u001b[0;34m\"Params must be a param map but got %s.\"\u001b[0m \u001b[0;34m%\u001b[0m \u001b[0mtype\u001b[0m\u001b[0;34m(\u001b[0m\u001b[0mparams\u001b[0m\u001b[0;34m)\u001b[0m\u001b[0;34m)\u001b[0m\u001b[0;34m\u001b[0m\u001b[0;34m\u001b[0m\u001b[0m\n",
      "\u001b[0;32m/usr/lib/spark/python/pyspark/ml/evaluation.py\u001b[0m in \u001b[0;36m_evaluate\u001b[0;34m(self, dataset)\u001b[0m\n\u001b[1;32m     99\u001b[0m         \"\"\"\n\u001b[1;32m    100\u001b[0m         \u001b[0mself\u001b[0m\u001b[0;34m.\u001b[0m\u001b[0m_transfer_params_to_java\u001b[0m\u001b[0;34m(\u001b[0m\u001b[0;34m)\u001b[0m\u001b[0;34m\u001b[0m\u001b[0;34m\u001b[0m\u001b[0m\n\u001b[0;32m--> 101\u001b[0;31m         \u001b[0;32mreturn\u001b[0m \u001b[0mself\u001b[0m\u001b[0;34m.\u001b[0m\u001b[0m_java_obj\u001b[0m\u001b[0;34m.\u001b[0m\u001b[0mevaluate\u001b[0m\u001b[0;34m(\u001b[0m\u001b[0mdataset\u001b[0m\u001b[0;34m.\u001b[0m\u001b[0m_jdf\u001b[0m\u001b[0;34m)\u001b[0m\u001b[0;34m\u001b[0m\u001b[0;34m\u001b[0m\u001b[0m\n\u001b[0m\u001b[1;32m    102\u001b[0m \u001b[0;34m\u001b[0m\u001b[0m\n\u001b[1;32m    103\u001b[0m     \u001b[0;32mdef\u001b[0m \u001b[0misLargerBetter\u001b[0m\u001b[0;34m(\u001b[0m\u001b[0mself\u001b[0m\u001b[0;34m)\u001b[0m\u001b[0;34m:\u001b[0m\u001b[0;34m\u001b[0m\u001b[0;34m\u001b[0m\u001b[0m\n",
      "\u001b[0;32m/opt/conda/anaconda/lib/python3.7/site-packages/py4j/java_gateway.py\u001b[0m in \u001b[0;36m__call__\u001b[0;34m(self, *args)\u001b[0m\n\u001b[1;32m   1253\u001b[0m             \u001b[0mproto\u001b[0m\u001b[0;34m.\u001b[0m\u001b[0mEND_COMMAND_PART\u001b[0m\u001b[0;34m\u001b[0m\u001b[0;34m\u001b[0m\u001b[0m\n\u001b[1;32m   1254\u001b[0m \u001b[0;34m\u001b[0m\u001b[0m\n\u001b[0;32m-> 1255\u001b[0;31m         \u001b[0manswer\u001b[0m \u001b[0;34m=\u001b[0m \u001b[0mself\u001b[0m\u001b[0;34m.\u001b[0m\u001b[0mgateway_client\u001b[0m\u001b[0;34m.\u001b[0m\u001b[0msend_command\u001b[0m\u001b[0;34m(\u001b[0m\u001b[0mcommand\u001b[0m\u001b[0;34m)\u001b[0m\u001b[0;34m\u001b[0m\u001b[0;34m\u001b[0m\u001b[0m\n\u001b[0m\u001b[1;32m   1256\u001b[0m         return_value = get_return_value(\n\u001b[1;32m   1257\u001b[0m             answer, self.gateway_client, self.target_id, self.name)\n",
      "\u001b[0;32m/opt/conda/anaconda/lib/python3.7/site-packages/py4j/java_gateway.py\u001b[0m in \u001b[0;36msend_command\u001b[0;34m(self, command, retry, binary)\u001b[0m\n\u001b[1;32m    983\u001b[0m         \u001b[0mconnection\u001b[0m \u001b[0;34m=\u001b[0m \u001b[0mself\u001b[0m\u001b[0;34m.\u001b[0m\u001b[0m_get_connection\u001b[0m\u001b[0;34m(\u001b[0m\u001b[0;34m)\u001b[0m\u001b[0;34m\u001b[0m\u001b[0;34m\u001b[0m\u001b[0m\n\u001b[1;32m    984\u001b[0m         \u001b[0;32mtry\u001b[0m\u001b[0;34m:\u001b[0m\u001b[0;34m\u001b[0m\u001b[0;34m\u001b[0m\u001b[0m\n\u001b[0;32m--> 985\u001b[0;31m             \u001b[0mresponse\u001b[0m \u001b[0;34m=\u001b[0m \u001b[0mconnection\u001b[0m\u001b[0;34m.\u001b[0m\u001b[0msend_command\u001b[0m\u001b[0;34m(\u001b[0m\u001b[0mcommand\u001b[0m\u001b[0;34m)\u001b[0m\u001b[0;34m\u001b[0m\u001b[0;34m\u001b[0m\u001b[0m\n\u001b[0m\u001b[1;32m    986\u001b[0m             \u001b[0;32mif\u001b[0m \u001b[0mbinary\u001b[0m\u001b[0;34m:\u001b[0m\u001b[0;34m\u001b[0m\u001b[0;34m\u001b[0m\u001b[0m\n\u001b[1;32m    987\u001b[0m                 \u001b[0;32mreturn\u001b[0m \u001b[0mresponse\u001b[0m\u001b[0;34m,\u001b[0m \u001b[0mself\u001b[0m\u001b[0;34m.\u001b[0m\u001b[0m_create_connection_guard\u001b[0m\u001b[0;34m(\u001b[0m\u001b[0mconnection\u001b[0m\u001b[0;34m)\u001b[0m\u001b[0;34m\u001b[0m\u001b[0;34m\u001b[0m\u001b[0m\n",
      "\u001b[0;32m/opt/conda/anaconda/lib/python3.7/site-packages/py4j/java_gateway.py\u001b[0m in \u001b[0;36msend_command\u001b[0;34m(self, command)\u001b[0m\n\u001b[1;32m   1150\u001b[0m \u001b[0;34m\u001b[0m\u001b[0m\n\u001b[1;32m   1151\u001b[0m         \u001b[0;32mtry\u001b[0m\u001b[0;34m:\u001b[0m\u001b[0;34m\u001b[0m\u001b[0;34m\u001b[0m\u001b[0m\n\u001b[0;32m-> 1152\u001b[0;31m             \u001b[0manswer\u001b[0m \u001b[0;34m=\u001b[0m \u001b[0msmart_decode\u001b[0m\u001b[0;34m(\u001b[0m\u001b[0mself\u001b[0m\u001b[0;34m.\u001b[0m\u001b[0mstream\u001b[0m\u001b[0;34m.\u001b[0m\u001b[0mreadline\u001b[0m\u001b[0;34m(\u001b[0m\u001b[0;34m)\u001b[0m\u001b[0;34m[\u001b[0m\u001b[0;34m:\u001b[0m\u001b[0;34m-\u001b[0m\u001b[0;36m1\u001b[0m\u001b[0;34m]\u001b[0m\u001b[0;34m)\u001b[0m\u001b[0;34m\u001b[0m\u001b[0;34m\u001b[0m\u001b[0m\n\u001b[0m\u001b[1;32m   1153\u001b[0m             \u001b[0mlogger\u001b[0m\u001b[0;34m.\u001b[0m\u001b[0mdebug\u001b[0m\u001b[0;34m(\u001b[0m\u001b[0;34m\"Answer received: {0}\"\u001b[0m\u001b[0;34m.\u001b[0m\u001b[0mformat\u001b[0m\u001b[0;34m(\u001b[0m\u001b[0manswer\u001b[0m\u001b[0;34m)\u001b[0m\u001b[0;34m)\u001b[0m\u001b[0;34m\u001b[0m\u001b[0;34m\u001b[0m\u001b[0m\n\u001b[1;32m   1154\u001b[0m             \u001b[0;32mif\u001b[0m \u001b[0manswer\u001b[0m\u001b[0;34m.\u001b[0m\u001b[0mstartswith\u001b[0m\u001b[0;34m(\u001b[0m\u001b[0mproto\u001b[0m\u001b[0;34m.\u001b[0m\u001b[0mRETURN_MESSAGE\u001b[0m\u001b[0;34m)\u001b[0m\u001b[0;34m:\u001b[0m\u001b[0;34m\u001b[0m\u001b[0;34m\u001b[0m\u001b[0m\n",
      "\u001b[0;32m/opt/conda/anaconda/lib/python3.7/socket.py\u001b[0m in \u001b[0;36mreadinto\u001b[0;34m(self, b)\u001b[0m\n\u001b[1;32m    587\u001b[0m         \u001b[0;32mwhile\u001b[0m \u001b[0;32mTrue\u001b[0m\u001b[0;34m:\u001b[0m\u001b[0;34m\u001b[0m\u001b[0;34m\u001b[0m\u001b[0m\n\u001b[1;32m    588\u001b[0m             \u001b[0;32mtry\u001b[0m\u001b[0;34m:\u001b[0m\u001b[0;34m\u001b[0m\u001b[0;34m\u001b[0m\u001b[0m\n\u001b[0;32m--> 589\u001b[0;31m                 \u001b[0;32mreturn\u001b[0m \u001b[0mself\u001b[0m\u001b[0;34m.\u001b[0m\u001b[0m_sock\u001b[0m\u001b[0;34m.\u001b[0m\u001b[0mrecv_into\u001b[0m\u001b[0;34m(\u001b[0m\u001b[0mb\u001b[0m\u001b[0;34m)\u001b[0m\u001b[0;34m\u001b[0m\u001b[0;34m\u001b[0m\u001b[0m\n\u001b[0m\u001b[1;32m    590\u001b[0m             \u001b[0;32mexcept\u001b[0m \u001b[0mtimeout\u001b[0m\u001b[0;34m:\u001b[0m\u001b[0;34m\u001b[0m\u001b[0;34m\u001b[0m\u001b[0m\n\u001b[1;32m    591\u001b[0m                 \u001b[0mself\u001b[0m\u001b[0;34m.\u001b[0m\u001b[0m_timeout_occurred\u001b[0m \u001b[0;34m=\u001b[0m \u001b[0;32mTrue\u001b[0m\u001b[0;34m\u001b[0m\u001b[0;34m\u001b[0m\u001b[0m\n",
      "\u001b[0;31mKeyboardInterrupt\u001b[0m: "
     ]
    }
   ],
   "source": [
    "for threshold in [0,1,2,3,4,5]:\n",
    "    adjust_predictions = predictions.withColumn(\"pred_rating\", when(predictions.prediction > threshold, float(5)) \\\n",
    "      .when(predictions.prediction <= threshold,float(1)))\n",
    "    rmse = rmse_evaluator.evaluate(adjust_predictions)\n",
    "    f1 = f1_evaluator.evaluate(adjust_predictions)\n",
    "    print(\"Threshold = %f, Root-mean-square error = %f, F1 = %f\" %(threshold, rmse, f1))"
   ]
  },
  {
   "cell_type": "code",
   "execution_count": null,
   "metadata": {},
   "outputs": [
    {
     "name": "stdout",
     "output_type": "stream",
     "text": [
      "Threshold = 1.500000, Root-mean-square error = 1.724656, F1 = 0.789517\n",
      "Threshold = 1.600000, Root-mean-square error = 1.732672, F1 = 0.790118\n",
      "Threshold = 1.700000, Root-mean-square error = 1.741250, F1 = 0.790659\n",
      "Threshold = 1.800000, Root-mean-square error = 1.751504, F1 = 0.790896\n",
      "Threshold = 1.900000, Root-mean-square error = 1.763064, F1 = 0.790896\n",
      "Threshold = 2.100000, Root-mean-square error = 1.791142, F1 = 0.790043\n",
      "Threshold = 2.200000, Root-mean-square error = 1.807210, F1 = 0.789200\n",
      "Threshold = 2.300000, Root-mean-square error = 1.825065, F1 = 0.788064\n",
      "Threshold = 2.400000, Root-mean-square error = 1.845620, F1 = 0.786378\n",
      "Threshold = 2.500000, Root-mean-square error = 1.867507, F1 = 0.784384\n"
     ]
    }
   ],
   "source": [
    "for threshold in [1.5, 1.6, 1.7, 1.8, 1.9, 2.1, 2.2, 2.3, 2.4, 2.5]:\n",
    "    adjust_predictions = predictions.withColumn(\"pred_rating\", when(predictions.prediction > threshold, float(5)) \\\n",
    "      .when(predictions.prediction <= threshold,float(1)))\n",
    "    rmse = rmse_evaluator.evaluate(adjust_predictions)\n",
    "    f1 = f1_evaluator.evaluate(adjust_predictions)\n",
    "    print(\"Threshold = %f, Root-mean-square error = %f, F1 = %f\" %(threshold, rmse, f1))"
   ]
  },
  {
   "cell_type": "code",
   "execution_count": 12,
   "metadata": {},
   "outputs": [
    {
     "name": "stdout",
     "output_type": "stream",
     "text": [
      "Accuracy: 0.5765061447332364\n"
     ]
    }
   ],
   "source": [
    "evaluator = MulticlassClassificationEvaluator(\n",
    "    labelCol=\"rating\", predictionCol=\"pred_rating\", metricName=\"accuracy\")\n",
    "accuracy = evaluator.evaluate(predictions)\n",
    "print(\"Accuracy:\", accuracy)"
   ]
  },
  {
   "cell_type": "code",
   "execution_count": null,
   "metadata": {},
   "outputs": [],
   "source": []
  }
 ],
 "metadata": {
  "kernelspec": {
   "display_name": "Python 3",
   "language": "python",
   "name": "python3"
  },
  "language_info": {
   "codemirror_mode": {
    "name": "ipython",
    "version": 3
   },
   "file_extension": ".py",
   "mimetype": "text/x-python",
   "name": "python",
   "nbconvert_exporter": "python",
   "pygments_lexer": "ipython3",
   "version": "3.7.4"
  }
 },
 "nbformat": 4,
 "nbformat_minor": 4
}
